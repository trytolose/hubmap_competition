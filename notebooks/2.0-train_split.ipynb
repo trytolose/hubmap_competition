{
 "cells": [
  {
   "cell_type": "code",
   "execution_count": 15,
   "id": "informal-registrar",
   "metadata": {},
   "outputs": [],
   "source": [
    "import sys\n",
    "sys.path.insert(0, \"../\")\n",
    "import numpy as np\n",
    "import pandas as pd\n",
    "from src.utils.utils import create_dataset\n",
    "from pathlib import Path\n",
    "from tqdm import tqdm\n",
    "import pandas as pd\n",
    "import cv2\n",
    "import matplotlib.pyplot as plt"
   ]
  },
  {
   "cell_type": "code",
   "execution_count": 16,
   "id": "graduate-clarity",
   "metadata": {},
   "outputs": [
    {
     "name": "stdout",
     "output_type": "stream",
     "text": [
      "1.0-eda.ipynb\t       3.0-inference.ipynb\t      submission.csv\n",
      "2.0-train_split.ipynb  4.0-create-zarr-dataset.ipynb\n",
      "256x256-images.ipynb   oof_predicts\n"
     ]
    }
   ],
   "source": [
    "!ls "
   ]
  },
  {
   "cell_type": "code",
   "execution_count": 17,
   "id": "quarterly-profession",
   "metadata": {},
   "outputs": [],
   "source": [
    "INPUT_PATH = Path(\"/hdd/kaggle/hubmap/input_v2\")\n",
    "PATH_FOR_CROPS = \"/hdd/kaggle/hubmap/input_v2/train_v1_1024\"\n",
    "df_train = pd.read_csv(INPUT_PATH / \"train.csv\")\n",
    "train_info = pd.read_csv(INPUT_PATH / \"HuBMAP-20-dataset_information.csv\")\n",
    "train_tiffs = list((INPUT_PATH / \"train\").glob('*.tiff'))"
   ]
  },
  {
   "cell_type": "markdown",
   "id": "interior-flexibility",
   "metadata": {},
   "source": [
    "## 5 fold multilabel stratified split"
   ]
  },
  {
   "cell_type": "code",
   "execution_count": 18,
   "id": "rocky-combine",
   "metadata": {},
   "outputs": [],
   "source": [
    "from iterstrat.ml_stratifiers import MultilabelStratifiedKFold"
   ]
  },
  {
   "cell_type": "code",
   "execution_count": 19,
   "id": "grand-circulation",
   "metadata": {},
   "outputs": [],
   "source": [
    "def manual_bin(square):\n",
    "    if square == 0:\n",
    "        return 0\n",
    "    elif 0 < square <=0.1:\n",
    "        return 1\n",
    "    elif 0.1 < square <= 0.2:\n",
    "        return 2\n",
    "    elif 0.2 < square <= 0.3:\n",
    "        return 3\n",
    "    elif 0.3 < square <= 0.4:\n",
    "        return 4\n",
    "    elif 0.4 < square <= 0.6:\n",
    "        return 5\n",
    "    elif 0.6 < square <= 0.8:\n",
    "        return 6\n",
    "    elif 0.8 < square:\n",
    "        return 7\n",
    "    \n",
    "# df['square'] = df['square']/512**2"
   ]
  },
  {
   "cell_type": "code",
   "execution_count": 20,
   "id": "previous-facility",
   "metadata": {},
   "outputs": [
    {
     "name": "stdout",
     "output_type": "stream",
     "text": [
      "images\tmasks  meta.csv  split_v1.csv\n"
     ]
    }
   ],
   "source": [
    "!ls ../../input/train_1024_256"
   ]
  },
  {
   "cell_type": "code",
   "execution_count": 21,
   "id": "aging-opinion",
   "metadata": {},
   "outputs": [],
   "source": [
    "df = pd.read_csv(\"../../input/train_1024_256/meta.csv\")"
   ]
  },
  {
   "cell_type": "code",
   "execution_count": 22,
   "id": "happy-referral",
   "metadata": {},
   "outputs": [
    {
     "data": {
      "text/plain": [
       "Index(['img_id', 'glomerulus_pix', 'medulla', 'cortex', 'outer_stripe',\n",
       "       'Inner medulla', 'Outer Medulla', 'file'],\n",
       "      dtype='object')"
      ]
     },
     "execution_count": 22,
     "metadata": {},
     "output_type": "execute_result"
    }
   ],
   "source": [
    "df.columns"
   ]
  },
  {
   "cell_type": "code",
   "execution_count": 23,
   "id": "editorial-adobe",
   "metadata": {},
   "outputs": [],
   "source": [
    "bining_cols = ['glomerulus_pix', 'medulla', 'cortex', 'outer_stripe',\n",
    "       'Inner medulla', 'Outer Medulla']\n",
    "for col in bining_cols:\n",
    "    df[col] = df[col]/256**2\n",
    "    df[col] = df[col].apply(manual_bin)"
   ]
  },
  {
   "cell_type": "code",
   "execution_count": 24,
   "id": "unlikely-sample",
   "metadata": {},
   "outputs": [
    {
     "data": {
      "text/html": [
       "<div>\n",
       "<style scoped>\n",
       "    .dataframe tbody tr th:only-of-type {\n",
       "        vertical-align: middle;\n",
       "    }\n",
       "\n",
       "    .dataframe tbody tr th {\n",
       "        vertical-align: top;\n",
       "    }\n",
       "\n",
       "    .dataframe thead th {\n",
       "        text-align: right;\n",
       "    }\n",
       "</style>\n",
       "<table border=\"1\" class=\"dataframe\">\n",
       "  <thead>\n",
       "    <tr style=\"text-align: right;\">\n",
       "      <th></th>\n",
       "      <th>img_id</th>\n",
       "      <th>glomerulus_pix</th>\n",
       "      <th>medulla</th>\n",
       "      <th>cortex</th>\n",
       "      <th>outer_stripe</th>\n",
       "      <th>Inner medulla</th>\n",
       "      <th>Outer Medulla</th>\n",
       "      <th>file</th>\n",
       "    </tr>\n",
       "  </thead>\n",
       "  <tbody>\n",
       "    <tr>\n",
       "      <th>0</th>\n",
       "      <td>2f6ecfcdf</td>\n",
       "      <td>0</td>\n",
       "      <td>7</td>\n",
       "      <td>0</td>\n",
       "      <td>0</td>\n",
       "      <td>0</td>\n",
       "      <td>0</td>\n",
       "      <td>/home/trytolose/rinat/kaggle/hubmap/input/trai...</td>\n",
       "    </tr>\n",
       "    <tr>\n",
       "      <th>1</th>\n",
       "      <td>2f6ecfcdf</td>\n",
       "      <td>0</td>\n",
       "      <td>7</td>\n",
       "      <td>0</td>\n",
       "      <td>0</td>\n",
       "      <td>0</td>\n",
       "      <td>0</td>\n",
       "      <td>/home/trytolose/rinat/kaggle/hubmap/input/trai...</td>\n",
       "    </tr>\n",
       "    <tr>\n",
       "      <th>2</th>\n",
       "      <td>2f6ecfcdf</td>\n",
       "      <td>0</td>\n",
       "      <td>7</td>\n",
       "      <td>0</td>\n",
       "      <td>0</td>\n",
       "      <td>0</td>\n",
       "      <td>0</td>\n",
       "      <td>/home/trytolose/rinat/kaggle/hubmap/input/trai...</td>\n",
       "    </tr>\n",
       "    <tr>\n",
       "      <th>3</th>\n",
       "      <td>2f6ecfcdf</td>\n",
       "      <td>0</td>\n",
       "      <td>7</td>\n",
       "      <td>0</td>\n",
       "      <td>0</td>\n",
       "      <td>0</td>\n",
       "      <td>0</td>\n",
       "      <td>/home/trytolose/rinat/kaggle/hubmap/input/trai...</td>\n",
       "    </tr>\n",
       "    <tr>\n",
       "      <th>4</th>\n",
       "      <td>2f6ecfcdf</td>\n",
       "      <td>0</td>\n",
       "      <td>7</td>\n",
       "      <td>0</td>\n",
       "      <td>0</td>\n",
       "      <td>0</td>\n",
       "      <td>0</td>\n",
       "      <td>/home/trytolose/rinat/kaggle/hubmap/input/trai...</td>\n",
       "    </tr>\n",
       "  </tbody>\n",
       "</table>\n",
       "</div>"
      ],
      "text/plain": [
       "      img_id  glomerulus_pix  medulla  cortex  outer_stripe  Inner medulla  \\\n",
       "0  2f6ecfcdf               0        7       0             0              0   \n",
       "1  2f6ecfcdf               0        7       0             0              0   \n",
       "2  2f6ecfcdf               0        7       0             0              0   \n",
       "3  2f6ecfcdf               0        7       0             0              0   \n",
       "4  2f6ecfcdf               0        7       0             0              0   \n",
       "\n",
       "   Outer Medulla                                               file  \n",
       "0              0  /home/trytolose/rinat/kaggle/hubmap/input/trai...  \n",
       "1              0  /home/trytolose/rinat/kaggle/hubmap/input/trai...  \n",
       "2              0  /home/trytolose/rinat/kaggle/hubmap/input/trai...  \n",
       "3              0  /home/trytolose/rinat/kaggle/hubmap/input/trai...  \n",
       "4              0  /home/trytolose/rinat/kaggle/hubmap/input/trai...  "
      ]
     },
     "execution_count": 24,
     "metadata": {},
     "output_type": "execute_result"
    }
   ],
   "source": [
    "df.head()"
   ]
  },
  {
   "cell_type": "code",
   "execution_count": 25,
   "id": "reduced-stress",
   "metadata": {},
   "outputs": [
    {
     "data": {
      "text/plain": [
       "0    5887\n",
       "7    2380\n",
       "6     316\n",
       "5     311\n",
       "1     263\n",
       "2     164\n",
       "4     153\n",
       "3     132\n",
       "Name: glomerulus_pix, dtype: int64"
      ]
     },
     "execution_count": 25,
     "metadata": {},
     "output_type": "execute_result"
    }
   ],
   "source": [
    "df[\"glomerulus_pix\"].value_counts()"
   ]
  },
  {
   "cell_type": "code",
   "execution_count": 16,
   "id": "eight-eclipse",
   "metadata": {},
   "outputs": [
    {
     "name": "stderr",
     "output_type": "stream",
     "text": [
      "/home/trytolose/miniconda3/envs/audio/lib/python3.8/site-packages/sklearn/utils/validation.py:70: FutureWarning: Pass shuffle=True, random_state=42 as keyword args. From version 1.0 (renaming of 0.25) passing these as positional arguments will result in an error\n",
      "  warnings.warn(f\"Pass {args_msg} as keyword args. From version \"\n"
     ]
    }
   ],
   "source": [
    "df['fold'] = 0\n",
    "\n",
    "mskf = MultilabelStratifiedKFold(n_splits=5, shuffle=True, random_state=42)\n",
    "for fold_n, (train_index, test_index) in enumerate(mskf.split(df, df.iloc[:, :7])):\n",
    "    df.loc[test_index, 'fold'] = fold_n"
   ]
  },
  {
   "cell_type": "code",
   "execution_count": 18,
   "id": "reasonable-qatar",
   "metadata": {},
   "outputs": [],
   "source": [
    "df.to_csv(\"/hdd/kaggle/hubmap/input_v2/train_v1_1024/split_v1.csv\")"
   ]
  },
  {
   "cell_type": "markdown",
   "id": "verbal-forestry",
   "metadata": {},
   "source": [
    "## Group KFold split"
   ]
  },
  {
   "cell_type": "code",
   "execution_count": 28,
   "id": "operational-centre",
   "metadata": {},
   "outputs": [],
   "source": [
    "df[\"fold\"] = 0\n",
    "ids = df['img_id'].unique()\n",
    "d = df['img_id'].value_counts()\n",
    "split = [\n",
    "    [0, 10, 9],\n",
    "    [1, 7, 14],\n",
    "    [8, 13, 2],\n",
    "    [6, 3, 12],\n",
    "    [4, 5, 11],\n",
    "]\n",
    "for fold, s in enumerate(split):\n",
    "    img_ids = d[s].index.tolist()\n",
    "    df.loc[df['img_id'].isin(img_ids), \"fold\"] = fold"
   ]
  },
  {
   "cell_type": "code",
   "execution_count": 29,
   "id": "contrary-glory",
   "metadata": {},
   "outputs": [
    {
     "name": "stdout",
     "output_type": "stream",
     "text": [
      "['2f6ecfcdf' '0486052bb' '4ef6695ce']\n",
      "['aaa6a05cc' '095bf7a1f' 'c68fe75ea']\n",
      "['b2dc8411c' 'afa5e8098' '1e2425f28']\n",
      "['8242609fa' 'cb2d976f4' '54f2eec69']\n",
      "['b9a3865fc' 'e79de561c' '26dc41664']\n"
     ]
    }
   ],
   "source": [
    "for i in range(5):\n",
    "    print(df[df['fold']==i]['img_id'].unique())"
   ]
  },
  {
   "cell_type": "code",
   "execution_count": 13,
   "id": "emotional-calendar",
   "metadata": {},
   "outputs": [
    {
     "name": "stdout",
     "output_type": "stream",
     "text": [
      "images\tmasks  meta.csv  split_v1.csv\n"
     ]
    }
   ],
   "source": [
    "!ls ../../input/train_v3_4096_1024"
   ]
  },
  {
   "cell_type": "code",
   "execution_count": 21,
   "id": "hourly-seven",
   "metadata": {},
   "outputs": [
    {
     "name": "stdout",
     "output_type": "stream",
     "text": [
      "train_v3_4096_1024  train_v4_4096_1024\tzarr_pdf  zarr_train  zarr_train_orig\n"
     ]
    }
   ],
   "source": [
    "!ls ../../input"
   ]
  },
  {
   "cell_type": "code",
   "execution_count": 14,
   "id": "rental-cornell",
   "metadata": {},
   "outputs": [],
   "source": [
    "df.to_csv(\"../../input/train_1024_256/split_v1.csv\")"
   ]
  },
  {
   "cell_type": "code",
   "execution_count": 83,
   "id": "coastal-electricity",
   "metadata": {},
   "outputs": [],
   "source": [
    "# !rm -rf /hdd/kaggle/hubmap/input_v2/train_v1_1024/"
   ]
  },
  {
   "cell_type": "code",
   "execution_count": 25,
   "id": "english-borough",
   "metadata": {},
   "outputs": [
    {
     "data": {
      "text/plain": [
       "4ef6695ce    1220\n",
       "c68fe75ea    1175\n",
       "afa5e8098    1130\n",
       "cb2d976f4     893\n",
       "26dc41664     781\n",
       "b9a3865fc     774\n",
       "8242609fa     760\n",
       "095bf7a1f     657\n",
       "1e2425f28     590\n",
       "0486052bb     353\n",
       "2f6ecfcdf     321\n",
       "e79de561c     313\n",
       "54f2eec69     304\n",
       "b2dc8411c     207\n",
       "aaa6a05cc     128\n",
       "Name: img_id, dtype: int64"
      ]
     },
     "execution_count": 25,
     "metadata": {},
     "output_type": "execute_result"
    }
   ],
   "source": [
    "ids = df['img_id'].unique()\n",
    "d = df['img_id'].value_counts()\n",
    "d"
   ]
  },
  {
   "cell_type": "code",
   "execution_count": 69,
   "id": "gentle-institution",
   "metadata": {
    "scrolled": true
   },
   "outputs": [
    {
     "name": "stderr",
     "output_type": "stream",
     "text": [
      "100%|██████████| 1000000/1000000 [12:11<00:00, 1366.35it/s]\n"
     ]
    }
   ],
   "source": [
    "std_min = 1000\n",
    "x_min = None\n",
    "for i in tqdm(range(1000000)):\n",
    "    x = np.random.choice(np.arange(15), size=(5, 3), replace=False)\n",
    "    m = []\n",
    "    for i in range(5):\n",
    "#         print(d[x[i]].sum())\n",
    "        m.append(d[x[i]].sum())\n",
    "    mm = np.std(m)\n",
    "    if mm < std_min:\n",
    "        std_min = mm\n",
    "        x_min = x.copy()"
   ]
  },
  {
   "cell_type": "code",
   "execution_count": 70,
   "id": "determined-illinois",
   "metadata": {},
   "outputs": [
    {
     "name": "stdout",
     "output_type": "stream",
     "text": [
      "[[ 0 10  9]\n",
      " [ 1  7 14]\n",
      " [ 8 13  2]\n",
      " [ 6  3 12]\n",
      " [ 4  5 11]]\n",
      "1894\n",
      "1960\n",
      "1927\n",
      "1957\n",
      "1868\n"
     ]
    }
   ],
   "source": [
    "print(x_min)\n",
    "for i in range(5):\n",
    "    print(d[x_min[i]].sum())"
   ]
  },
  {
   "cell_type": "code",
   "execution_count": 84,
   "id": "focused-wheel",
   "metadata": {},
   "outputs": [
    {
     "data": {
      "text/plain": [
       "35.75136361035757"
      ]
     },
     "execution_count": 84,
     "metadata": {},
     "output_type": "execute_result"
    }
   ],
   "source": [
    "std_min"
   ]
  },
  {
   "cell_type": "markdown",
   "id": "incomplete-electric",
   "metadata": {},
   "source": [
    "## Sampling test"
   ]
  },
  {
   "cell_type": "code",
   "execution_count": 30,
   "id": "australian-plate",
   "metadata": {},
   "outputs": [],
   "source": [
    "FOLD_IMGS = {\n",
    "    0: [\"4ef6695ce\", \"0486052bb\", \"2f6ecfcdf\"],\n",
    "    1: [\"c68fe75ea\", \"095bf7a1f\", \"aaa6a05cc\"],\n",
    "    2: [\"afa5e8098\", \"1e2425f28\", \"b2dc8411c\"],\n",
    "    3: [\"cb2d976f4\", \"8242609fa\", \"54f2eec69\"],\n",
    "    4: [\"26dc41664\", \"b9a3865fc\", \"e79de561c\"],\n",
    "}\n",
    "def manual_bin(square):\n",
    "    if square == 0:\n",
    "        return 0\n",
    "    elif 0 < square <=0.1:\n",
    "        return 1\n",
    "    elif 0.1 < square <= 0.2:\n",
    "        return 2\n",
    "    elif 0.2 < square <= 0.3:\n",
    "        return 3\n",
    "    elif 0.3 < square <= 0.4:\n",
    "        return 4\n",
    "    elif 0.4 < square <= 0.6:\n",
    "        return 5\n",
    "    elif 0.6 < square <= 0.8:\n",
    "        return 6\n",
    "    elif 0.8 < square:\n",
    "        return 7\n",
    "\n",
    "def create_dataset_annotation(df, img_size):\n",
    "    bining_cols = ['glomerulus_pix', 'medulla', 'cortex', 'outer_stripe',\n",
    "           'Inner medulla', 'Outer Medulla']\n",
    "    for col in bining_cols:\n",
    "        df[col] = df[col]/img_size**2\n",
    "        df[col] = df[col].apply(manual_bin)\n",
    "    return df"
   ]
  },
  {
   "cell_type": "code",
   "execution_count": 31,
   "id": "polar-tunisia",
   "metadata": {},
   "outputs": [
    {
     "data": {
      "text/html": [
       "<div>\n",
       "<style scoped>\n",
       "    .dataframe tbody tr th:only-of-type {\n",
       "        vertical-align: middle;\n",
       "    }\n",
       "\n",
       "    .dataframe tbody tr th {\n",
       "        vertical-align: top;\n",
       "    }\n",
       "\n",
       "    .dataframe thead th {\n",
       "        text-align: right;\n",
       "    }\n",
       "</style>\n",
       "<table border=\"1\" class=\"dataframe\">\n",
       "  <thead>\n",
       "    <tr style=\"text-align: right;\">\n",
       "      <th></th>\n",
       "      <th>img_id</th>\n",
       "      <th>glomerulus_pix</th>\n",
       "      <th>medulla</th>\n",
       "      <th>cortex</th>\n",
       "      <th>outer_stripe</th>\n",
       "      <th>Inner medulla</th>\n",
       "      <th>Outer Medulla</th>\n",
       "      <th>file</th>\n",
       "      <th>fold</th>\n",
       "    </tr>\n",
       "  </thead>\n",
       "  <tbody>\n",
       "    <tr>\n",
       "      <th>0</th>\n",
       "      <td>2f6ecfcdf</td>\n",
       "      <td>0</td>\n",
       "      <td>7</td>\n",
       "      <td>0</td>\n",
       "      <td>0</td>\n",
       "      <td>0</td>\n",
       "      <td>0</td>\n",
       "      <td>/home/trytolose/rinat/kaggle/hubmap/input/trai...</td>\n",
       "      <td>0</td>\n",
       "    </tr>\n",
       "    <tr>\n",
       "      <th>1</th>\n",
       "      <td>2f6ecfcdf</td>\n",
       "      <td>0</td>\n",
       "      <td>7</td>\n",
       "      <td>0</td>\n",
       "      <td>0</td>\n",
       "      <td>0</td>\n",
       "      <td>0</td>\n",
       "      <td>/home/trytolose/rinat/kaggle/hubmap/input/trai...</td>\n",
       "      <td>0</td>\n",
       "    </tr>\n",
       "    <tr>\n",
       "      <th>2</th>\n",
       "      <td>2f6ecfcdf</td>\n",
       "      <td>0</td>\n",
       "      <td>7</td>\n",
       "      <td>0</td>\n",
       "      <td>0</td>\n",
       "      <td>0</td>\n",
       "      <td>0</td>\n",
       "      <td>/home/trytolose/rinat/kaggle/hubmap/input/trai...</td>\n",
       "      <td>0</td>\n",
       "    </tr>\n",
       "    <tr>\n",
       "      <th>3</th>\n",
       "      <td>2f6ecfcdf</td>\n",
       "      <td>0</td>\n",
       "      <td>7</td>\n",
       "      <td>0</td>\n",
       "      <td>0</td>\n",
       "      <td>0</td>\n",
       "      <td>0</td>\n",
       "      <td>/home/trytolose/rinat/kaggle/hubmap/input/trai...</td>\n",
       "      <td>0</td>\n",
       "    </tr>\n",
       "    <tr>\n",
       "      <th>4</th>\n",
       "      <td>2f6ecfcdf</td>\n",
       "      <td>0</td>\n",
       "      <td>7</td>\n",
       "      <td>0</td>\n",
       "      <td>0</td>\n",
       "      <td>0</td>\n",
       "      <td>0</td>\n",
       "      <td>/home/trytolose/rinat/kaggle/hubmap/input/trai...</td>\n",
       "      <td>0</td>\n",
       "    </tr>\n",
       "  </tbody>\n",
       "</table>\n",
       "</div>"
      ],
      "text/plain": [
       "      img_id  glomerulus_pix  medulla  cortex  outer_stripe  Inner medulla  \\\n",
       "0  2f6ecfcdf               0        7       0             0              0   \n",
       "1  2f6ecfcdf               0        7       0             0              0   \n",
       "2  2f6ecfcdf               0        7       0             0              0   \n",
       "3  2f6ecfcdf               0        7       0             0              0   \n",
       "4  2f6ecfcdf               0        7       0             0              0   \n",
       "\n",
       "   Outer Medulla                                               file  fold  \n",
       "0              0  /home/trytolose/rinat/kaggle/hubmap/input/trai...     0  \n",
       "1              0  /home/trytolose/rinat/kaggle/hubmap/input/trai...     0  \n",
       "2              0  /home/trytolose/rinat/kaggle/hubmap/input/trai...     0  \n",
       "3              0  /home/trytolose/rinat/kaggle/hubmap/input/trai...     0  \n",
       "4              0  /home/trytolose/rinat/kaggle/hubmap/input/trai...     0  "
      ]
     },
     "execution_count": 31,
     "metadata": {},
     "output_type": "execute_result"
    }
   ],
   "source": [
    "df = create_dataset_annotation(\"../../input/train_1024_256/meta.csv\")\n",
    "df.head()"
   ]
  },
  {
   "cell_type": "code",
   "execution_count": 36,
   "id": "educated-specification",
   "metadata": {},
   "outputs": [
    {
     "data": {
      "text/plain": [
       "PosixPath('../../input/train_1024_256')"
      ]
     },
     "execution_count": 36,
     "metadata": {},
     "output_type": "execute_result"
    }
   ],
   "source": [
    "x = Path(\"../../input/train_1024_256/meta.csv\")\n",
    "x.parent"
   ]
  },
  {
   "cell_type": "code",
   "execution_count": null,
   "id": "productive-production",
   "metadata": {},
   "outputs": [],
   "source": []
  }
 ],
 "metadata": {
  "kernelspec": {
   "display_name": "Python 3",
   "language": "python",
   "name": "python3"
  },
  "language_info": {
   "codemirror_mode": {
    "name": "ipython",
    "version": 3
   },
   "file_extension": ".py",
   "mimetype": "text/x-python",
   "name": "python",
   "nbconvert_exporter": "python",
   "pygments_lexer": "ipython3",
   "version": "3.8.5"
  }
 },
 "nbformat": 4,
 "nbformat_minor": 5
}
