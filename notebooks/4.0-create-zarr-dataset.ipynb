{
 "cells": [
  {
   "cell_type": "code",
   "execution_count": 4,
   "id": "figured-resident",
   "metadata": {},
   "outputs": [],
   "source": [
    "import sys\n",
    "sys.path.insert(0, \"../\")"
   ]
  },
  {
   "cell_type": "code",
   "execution_count": 5,
   "id": "lonely-amendment",
   "metadata": {},
   "outputs": [],
   "source": [
    "import numpy as np\n",
    "import matplotlib.pyplot as plt\n",
    "import cv2\n",
    "import pandas as pd\n",
    "from pathlib import Path\n",
    "import segmentation_models_pytorch as smp\n",
    "import torch\n",
    "import torch.nn as nn\n",
    "import tifffile\n",
    "from torch.utils.data import DataLoader\n",
    "from src.loops.loops import validation_full_image, inference, inference_overlap\n",
    "from src.utils.utils import rle2mask, IMAGE_SIZES, mask2rle\n",
    "from src.transforms.transform import base_transform, valid_transform\n",
    "from src.datasets.dataset import ImageDataset, SingleTiffDataset\n",
    "from src.utils.metrics import dice_numpy\n",
    "import gc\n",
    "from tqdm import tqdm\n",
    "import zarr\n",
    "import cv2, zarr, tifffile\n",
    "import rasterio"
   ]
  },
  {
   "cell_type": "code",
   "execution_count": 6,
   "id": "honey-validity",
   "metadata": {},
   "outputs": [],
   "source": [
    "FACTOR = 6\n",
    "CROP_SIZE= 1024 * 4 * FACTOR\n",
    "IMG_TRAIN_SIZE = 1024 * FACTOR\n",
    "BATCH_SIZE= 1\n",
    "NUM_WORKERS = 0"
   ]
  },
  {
   "cell_type": "code",
   "execution_count": 7,
   "id": "equal-antarctica",
   "metadata": {},
   "outputs": [],
   "source": [
    "df = pd.read_csv(\"/hdd/kaggle/hubmap/input_v2/train.csv\").set_index(\"id\", drop=True)\n",
    "df_sub = pd.read_csv(\"/hdd/kaggle/hubmap/input_v2/sample_submission.csv\")\n",
    "input_path = Path(\"/hdd/kaggle/hubmap/input_v2\")"
   ]
  },
  {
   "cell_type": "code",
   "execution_count": 1,
   "id": "first-timer",
   "metadata": {
    "scrolled": true
   },
   "outputs": [
    {
     "name": "stdout",
     "output_type": "stream",
     "text": [
      "total 24278620\n",
      "-rw-rw-r-- 1 trytolose trytolose       3713 Mar  9 20:12 0486052bb-anatomical-structure.json\n",
      "-rw-rw-r-- 1 trytolose trytolose     277365 Mar  9 20:12 0486052bb.json\n",
      "-rw-rw-r-- 1 trytolose trytolose  259124792 Mar  9 20:12 0486052bb.tiff\n",
      "-rw-rw-r-- 1 trytolose trytolose        944 Mar  9 20:12 095bf7a1f-anatomical-structure.json\n",
      "-rw-rw-r-- 1 trytolose trytolose    1271668 Mar  9 20:12 095bf7a1f.json\n",
      "-rw-rw-r-- 1 trytolose trytolose 2517312665 Mar  9 20:12 095bf7a1f.tiff\n",
      "-rw-rw-r-- 1 trytolose trytolose       2835 Mar  9 20:16 1e2425f28-anatomical-structure.json\n",
      "-rw-rw-r-- 1 trytolose trytolose     780988 Mar  9 20:16 1e2425f28.json\n",
      "-rw-rw-r-- 1 trytolose trytolose 1920094538 Mar  9 20:16 1e2425f28.tiff\n",
      "-rw-rw-r-- 1 trytolose trytolose       3832 Mar  9 20:18 26dc41664-anatomical-structure.json\n",
      "-rw-rw-r-- 1 trytolose trytolose     863936 Mar  9 20:18 26dc41664.json\n",
      "-rw-rw-r-- 1 trytolose trytolose 2574845931 Mar  9 20:18 26dc41664.tiff\n",
      "-rw-rw-r-- 1 trytolose trytolose       2953 Mar  9 20:22 2f6ecfcdf-anatomical-structure.json\n",
      "-rw-rw-r-- 1 trytolose trytolose     504657 Mar  9 20:22 2f6ecfcdf.json\n",
      "-rw-rw-r-- 1 trytolose trytolose  220239526 Mar  9 20:22 2f6ecfcdf.tiff\n",
      "-rw-rw-r-- 1 trytolose trytolose       2552 Mar  9 20:22 4ef6695ce-anatomical-structure.json\n",
      "-rw-rw-r-- 1 trytolose trytolose    2889719 Mar  9 20:22 4ef6695ce.json\n",
      "-rw-rw-r-- 1 trytolose trytolose 4189009781 Mar  9 20:22 4ef6695ce.tiff\n",
      "-rw-rw-r-- 1 trytolose trytolose       1891 Mar  9 20:28 54f2eec69-anatomical-structure.json\n",
      "-rw-rw-r-- 1 trytolose trytolose     281423 Mar  9 20:28 54f2eec69.json\n",
      "-rw-rw-r-- 1 trytolose trytolose 2030958288 Mar  9 20:28 54f2eec69.tiff\n",
      "-rw-rw-r-- 1 trytolose trytolose       3894 Mar  9 20:32 8242609fa-anatomical-structure.json\n",
      "-rw-rw-r-- 1 trytolose trytolose    1550837 Mar  9 20:32 8242609fa.json\n",
      "-rw-rw-r-- 1 trytolose trytolose  507137150 Mar  9 20:32 8242609fa.tiff\n",
      "-rw-rw-r-- 1 trytolose trytolose       3304 Mar  9 20:33 aaa6a05cc-anatomical-structure.json\n",
      "-rw-rw-r-- 1 trytolose trytolose     166171 Mar  9 20:33 aaa6a05cc.json\n",
      "-rw-rw-r-- 1 trytolose trytolose   82349484 Mar  9 20:33 aaa6a05cc.tiff\n",
      "-rw-rw-r-- 1 trytolose trytolose       4408 Mar  9 20:33 afa5e8098-anatomical-structure.json\n",
      "-rw-rw-r-- 1 trytolose trytolose     791127 Mar  9 20:33 afa5e8098.json\n",
      "-rw-rw-r-- 1 trytolose trytolose 4869985110 Mar  9 20:33 afa5e8098.tiff\n",
      "-rw-rw-r-- 1 trytolose trytolose       3895 Mar  9 20:39 b2dc8411c-anatomical-structure.json\n",
      "-rw-rw-r-- 1 trytolose trytolose     276128 Mar  9 20:39 b2dc8411c.json\n",
      "-rw-rw-r-- 1 trytolose trytolose  138934273 Mar  9 20:39 b2dc8411c.tiff\n",
      "-rw-rw-r-- 1 trytolose trytolose       2844 Mar  9 20:39 b9a3865fc-anatomical-structure.json\n",
      "-rw-rw-r-- 1 trytolose trytolose     985718 Mar  9 20:39 b9a3865fc.json\n",
      "-rw-rw-r-- 1 trytolose trytolose  511713709 Mar  9 20:39 b9a3865fc.tiff\n",
      "-rw-rw-r-- 1 trytolose trytolose       3232 Mar  9 20:40 c68fe75ea-anatomical-structure.json\n",
      "-rw-rw-r-- 1 trytolose trytolose     360640 Mar  9 20:40 c68fe75ea.json\n",
      "-rw-rw-r-- 1 trytolose trytolose 3182621593 Mar  9 20:40 c68fe75ea.tiff\n",
      "-rw-rw-r-- 1 trytolose trytolose       4736 Mar  9 20:45 cb2d976f4-anatomical-structure.json\n",
      "-rw-rw-r-- 1 trytolose trytolose     879077 Mar  9 20:45 cb2d976f4.json\n",
      "-rw-rw-r-- 1 trytolose trytolose  532957540 Mar  9 20:45 cb2d976f4.tiff\n",
      "-rw-rw-r-- 1 trytolose trytolose       1610 Mar  9 20:45 e79de561c-anatomical-structure.json\n",
      "-rw-rw-r-- 1 trytolose trytolose     410616 Mar  9 20:45 e79de561c.json\n",
      "-rw-rw-r-- 1 trytolose trytolose 1311552288 Mar  9 20:45 e79de561c.tiff\n"
     ]
    }
   ],
   "source": [
    "!ls -l /hdd/kaggle/hubmap/input_v2/train"
   ]
  },
  {
   "cell_type": "code",
   "execution_count": 5,
   "id": "tight-motel",
   "metadata": {},
   "outputs": [
    {
     "name": "stderr",
     "output_type": "stream",
     "text": [
      "/home/trytolose/miniconda3/envs/audio/lib/python3.8/site-packages/rasterio/__init__.py:207: NotGeoreferencedWarning: Dataset has no geotransform, gcps, or rpcs. The identity matrix be returned.\n",
      "  s = DatasetReader(path, driver=driver, sharing=sharing, **kwargs)\n"
     ]
    }
   ],
   "source": [
    "img_id = \"095bf7a1f\"\n",
    "img_path = Path(\"/hdd/kaggle/hubmap/input_v2/train\") / f\"{img_id}.tiff\"\n",
    "dataset = rasterio.open(img_path, num_threads=\"all_cpus\")\n",
    "# mask_main, mask_second = create_masks(img_id, rle, path)\n",
    "\n",
    "h, w = dataset.height, dataset.width\n",
    "if dataset.count == 3:\n",
    "    image = dataset.read().transpose(1, 2, 0)\n",
    "else:\n",
    "    layers = []\n",
    "    subdatasets = dataset.subdatasets\n",
    "    if len(subdatasets) > 0:\n",
    "        for i, subdataset in enumerate(subdatasets, 0):\n",
    "            layers.append(rasterio.open(subdataset))\n",
    "    image = np.stack([x.read().squeeze() for x in layers], axis=2)"
   ]
  },
  {
   "cell_type": "code",
   "execution_count": 6,
   "id": "technical-audit",
   "metadata": {},
   "outputs": [
    {
     "data": {
      "text/plain": [
       "(1, 38160, 39000)"
      ]
     },
     "execution_count": 6,
     "metadata": {},
     "output_type": "execute_result"
    }
   ],
   "source": [
    "# image = layers[0].read().transpose(1, 2, 0)\n",
    "# dataset.read().shape\n",
    "# image = layers[0].read() #.transpose(1, 2, 0)"
   ]
  },
  {
   "cell_type": "code",
   "execution_count": 6,
   "id": "killing-unemployment",
   "metadata": {},
   "outputs": [
    {
     "data": {
      "text/plain": [
       "(38160, 39000, 3)"
      ]
     },
     "execution_count": 6,
     "metadata": {},
     "output_type": "execute_result"
    }
   ],
   "source": [
    "xx = np.stack([x.read().squeeze() for x in layers], axis=2)\n",
    "xx.shape"
   ]
  },
  {
   "cell_type": "code",
   "execution_count": 18,
   "id": "activated-roommate",
   "metadata": {},
   "outputs": [
    {
     "name": "stdout",
     "output_type": "stream",
     "text": [
      "2f6ecfcdf 3\n",
      "8242609fa 3\n",
      "aaa6a05cc 3\n",
      "cb2d976f4 3\n",
      "b9a3865fc 3\n",
      "b2dc8411c 3\n",
      "0486052bb 3\n",
      "e79de561c 3\n",
      "095bf7a1f 1\n",
      "54f2eec69 3\n",
      "4ef6695ce 1\n",
      "26dc41664 1\n",
      "c68fe75ea 1\n",
      "afa5e8098 3\n",
      "1e2425f28 1\n"
     ]
    },
    {
     "name": "stderr",
     "output_type": "stream",
     "text": [
      "/home/trytolose/miniconda3/envs/audio/lib/python3.8/site-packages/rasterio/__init__.py:207: NotGeoreferencedWarning: Dataset has no geotransform, gcps, or rpcs. The identity matrix be returned.\n",
      "  s = DatasetReader(path, driver=driver, sharing=sharing, **kwargs)\n"
     ]
    }
   ],
   "source": [
    "for img_id, row in df.iterrows():\n",
    "    img_path = Path(\"/hdd/kaggle/hubmap/input_v2/train\") / f\"{img_id}.tiff\"\n",
    "    dataset = rasterio.open(img_path, num_threads=\"all_cpus\")\n",
    "    print(img_id, dataset.count)"
   ]
  },
  {
   "cell_type": "code",
   "execution_count": null,
   "id": "suburban-shaft",
   "metadata": {},
   "outputs": [],
   "source": []
  },
  {
   "cell_type": "code",
   "execution_count": null,
   "id": "sexual-therapist",
   "metadata": {},
   "outputs": [],
   "source": [
    "img_path = Path(path) / f\"{img_id}.tiff\"\n",
    "dataset = rasterio.open(img_path, num_threads=\"all_cpus\")\n",
    "mask_main, mask_second = create_masks(img_id, rle, path)\n",
    "\n",
    "h, w = dataset.height, dataset.width\n",
    "layers = []\n",
    "if dataset.count != 3:\n",
    "    subdatasets = dataset.subdatasets\n",
    "    if len(subdatasets) > 0:\n",
    "        for i, subdataset in enumerate(subdatasets, 0):\n",
    "            layers.append(rasterio.open(subdataset))\n",
    "else:\n",
    "    layers.append(rasterio.open(img_path))\n"
   ]
  },
  {
   "cell_type": "code",
   "execution_count": null,
   "id": "sporting-colombia",
   "metadata": {},
   "outputs": [],
   "source": []
  },
  {
   "cell_type": "code",
   "execution_count": null,
   "id": "departmental-cause",
   "metadata": {},
   "outputs": [],
   "source": []
  },
  {
   "cell_type": "code",
   "execution_count": 13,
   "id": "fifth-airplane",
   "metadata": {},
   "outputs": [],
   "source": [
    "def read_image(image_id, path, scale=None, verbose=1):\n",
    "    \"Load images with ID from path\"\n",
    "    \n",
    "#     image = tifffile.imread(path/f\"train/{image_id}.tiff\")\n",
    "    \n",
    "#     if len(image.shape) == 5:\n",
    "#         image = image.squeeze().transpose(1, 2, 0)\n",
    "#     elif image.shape[0] == 3:\n",
    "#         image = image.transpose(1, 2, 0)\n",
    "#     h, w = image.shape[:2]\n",
    "#     if verbose:\n",
    "#         print(f\"[{image_id}] Image shape: {image.shape}\")\n",
    "\n",
    "    img_path = Path(path) / f\"{image_id}.tiff\"\n",
    "    dataset = rasterio.open(img_path, num_threads=\"all_cpus\")\n",
    "    # mask_main, mask_second = create_masks(img_id, rle, path)\n",
    "\n",
    "    h, w = dataset.height, dataset.width\n",
    "    if dataset.count == 3:\n",
    "        image = dataset.read().transpose(1, 2, 0)\n",
    "    else:\n",
    "        layers = []\n",
    "        subdatasets = dataset.subdatasets\n",
    "        if len(subdatasets) > 0:\n",
    "            for i, subdataset in enumerate(subdatasets, 0):\n",
    "                layers.append(rasterio.open(subdataset))\n",
    "        image = np.stack([x.read().squeeze() for x in layers], axis=2)\n",
    "    \n",
    "    \n",
    "#     if scale:\n",
    "#         new_size = (image.shape[1] // scale, image.shape[0] // scale)\n",
    "#         image = cv2.resize(image, new_size)\n",
    "        \n",
    "#         if verbose:\n",
    "#             print(f\"[{image_id}] Resized Image shape: {image.shape}\")\n",
    "#     h_new, w_new = image.shape[:2]\n",
    "    return image #, h, w, h_new, w_new"
   ]
  },
  {
   "cell_type": "code",
   "execution_count": 7,
   "id": "stopped-beginning",
   "metadata": {},
   "outputs": [
    {
     "name": "stderr",
     "output_type": "stream",
     "text": [
      "  0%|          | 0/15 [00:00<?, ?it/s]/home/trytolose/miniconda3/envs/audio/lib/python3.8/site-packages/rasterio/__init__.py:207: NotGeoreferencedWarning: Dataset has no geotransform, gcps, or rpcs. The identity matrix be returned.\n",
      "  s = DatasetReader(path, driver=driver, sharing=sharing, **kwargs)\n"
     ]
    },
    {
     "name": "stdout",
     "output_type": "stream",
     "text": [
      "(31278, 25794, 3)\n"
     ]
    },
    {
     "name": "stderr",
     "output_type": "stream",
     "text": [
      "  7%|▋         | 1/15 [00:23<05:33, 23.84s/it]"
     ]
    },
    {
     "name": "stdout",
     "output_type": "stream",
     "text": [
      "(31299, 44066, 3)\n"
     ]
    },
    {
     "name": "stderr",
     "output_type": "stream",
     "text": [
      " 13%|█▎        | 2/15 [01:07<07:38, 35.28s/it]"
     ]
    },
    {
     "name": "stdout",
     "output_type": "stream",
     "text": [
      "(18484, 13013, 3)\n"
     ]
    },
    {
     "name": "stderr",
     "output_type": "stream",
     "text": [
      " 20%|██        | 3/15 [01:15<04:33, 22.79s/it]"
     ]
    },
    {
     "name": "stdout",
     "output_type": "stream",
     "text": [
      "(34940, 49548, 3)\n"
     ]
    },
    {
     "name": "stderr",
     "output_type": "stream",
     "text": [
      " 27%|██▋       | 4/15 [02:05<06:12, 33.82s/it]"
     ]
    },
    {
     "name": "stdout",
     "output_type": "stream",
     "text": [
      "(31295, 40429, 3)\n"
     ]
    },
    {
     "name": "stderr",
     "output_type": "stream",
     "text": [
      " 33%|███▎      | 5/15 [02:46<06:01, 36.15s/it]"
     ]
    },
    {
     "name": "stdout",
     "output_type": "stream",
     "text": [
      "(14844, 31262, 3)\n"
     ]
    },
    {
     "name": "stderr",
     "output_type": "stream",
     "text": [
      " 40%|████      | 6/15 [02:59<04:16, 28.55s/it]"
     ]
    },
    {
     "name": "stdout",
     "output_type": "stream",
     "text": [
      "(25784, 34937, 3)\n"
     ]
    },
    {
     "name": "stderr",
     "output_type": "stream",
     "text": [
      " 47%|████▋     | 7/15 [03:26<03:42, 27.81s/it]"
     ]
    },
    {
     "name": "stdout",
     "output_type": "stream",
     "text": [
      "(16180, 27020, 3)\n"
     ]
    },
    {
     "name": "stderr",
     "output_type": "stream",
     "text": [
      " 53%|█████▎    | 8/15 [03:39<02:42, 23.23s/it]"
     ]
    },
    {
     "name": "stdout",
     "output_type": "stream",
     "text": [
      "(38160, 39000, 3)\n"
     ]
    },
    {
     "name": "stderr",
     "output_type": "stream",
     "text": [
      " 60%|██████    | 9/15 [04:25<03:02, 30.39s/it]"
     ]
    },
    {
     "name": "stdout",
     "output_type": "stream",
     "text": [
      "(30440, 22240, 3)\n"
     ]
    },
    {
     "name": "stderr",
     "output_type": "stream",
     "text": [
      " 67%|██████▋   | 10/15 [04:45<02:15, 27.11s/it]"
     ]
    },
    {
     "name": "stdout",
     "output_type": "stream",
     "text": [
      "(39960, 50680, 3)\n"
     ]
    },
    {
     "name": "stderr",
     "output_type": "stream",
     "text": [
      " 73%|███████▎  | 11/15 [05:42<02:25, 36.31s/it]"
     ]
    },
    {
     "name": "stdout",
     "output_type": "stream",
     "text": [
      "(38160, 42360, 3)\n"
     ]
    },
    {
     "name": "stderr",
     "output_type": "stream",
     "text": [
      " 80%|████████  | 12/15 [06:22<01:51, 37.24s/it]"
     ]
    },
    {
     "name": "stdout",
     "output_type": "stream",
     "text": [
      "(26840, 49780, 3)\n"
     ]
    },
    {
     "name": "stderr",
     "output_type": "stream",
     "text": [
      " 87%|████████▋ | 13/15 [07:02<01:16, 38.22s/it]"
     ]
    },
    {
     "name": "stdout",
     "output_type": "stream",
     "text": [
      "(36800, 43780, 3)\n"
     ]
    },
    {
     "name": "stderr",
     "output_type": "stream",
     "text": [
      " 93%|█████████▎| 14/15 [08:02<00:44, 44.79s/it]"
     ]
    },
    {
     "name": "stdout",
     "output_type": "stream",
     "text": [
      "(26780, 32220, 3)\n"
     ]
    },
    {
     "name": "stderr",
     "output_type": "stream",
     "text": [
      "100%|██████████| 15/15 [08:27<00:00, 33.86s/it]\n"
     ]
    }
   ],
   "source": [
    "# !rm -rf ../../input/zarr_train_orig\n",
    "# !mkdir ../../input/zarr_train_orig\n",
    "g_out = zarr.group(f'../../input/zarr_train_orig')\n",
    "path = \"/hdd/kaggle/hubmap/input_v2/train\"\n",
    "for img_id, row in tqdm(df.iterrows(), total=15):\n",
    "#     image, h, w, h_new, w_new = read_image(img_id, input_path, scale=4)\n",
    "    image = read_image(img_id, path, scale=4)\n",
    "    h, w = image.shape[:2]\n",
    "    print(image.shape)\n",
    "    g_out[img_id] = image\n",
    "    del image\n",
    "    gc.collect()\n",
    "    gc.collect()\n",
    "    mask = rle2mask(row['encoding'], (w, h)).astype(np.uint8)\n",
    "#     mask = cv2.resize(mask, (w_new, h_new))\n",
    "    g_out[img_id+\"_mask\"] = mask\n",
    "    del mask\n",
    "    gc.collect()\n",
    "    gc.collect()"
   ]
  },
  {
   "cell_type": "markdown",
   "id": "dental-injury",
   "metadata": {},
   "source": [
    "## CREATE ZARR DATASET FOR PUBLIC TEST"
   ]
  },
  {
   "cell_type": "code",
   "execution_count": 8,
   "id": "necessary-meditation",
   "metadata": {},
   "outputs": [
    {
     "data": {
      "text/html": [
       "<div>\n",
       "<style scoped>\n",
       "    .dataframe tbody tr th:only-of-type {\n",
       "        vertical-align: middle;\n",
       "    }\n",
       "\n",
       "    .dataframe tbody tr th {\n",
       "        vertical-align: top;\n",
       "    }\n",
       "\n",
       "    .dataframe thead th {\n",
       "        text-align: right;\n",
       "    }\n",
       "</style>\n",
       "<table border=\"1\" class=\"dataframe\">\n",
       "  <thead>\n",
       "    <tr style=\"text-align: right;\">\n",
       "      <th></th>\n",
       "      <th>id</th>\n",
       "      <th>predicted</th>\n",
       "    </tr>\n",
       "  </thead>\n",
       "  <tbody>\n",
       "    <tr>\n",
       "      <th>0</th>\n",
       "      <td>2ec3f1bb9</td>\n",
       "      <td>NaN</td>\n",
       "    </tr>\n",
       "    <tr>\n",
       "      <th>1</th>\n",
       "      <td>3589adb90</td>\n",
       "      <td>NaN</td>\n",
       "    </tr>\n",
       "    <tr>\n",
       "      <th>2</th>\n",
       "      <td>d488c759a</td>\n",
       "      <td>NaN</td>\n",
       "    </tr>\n",
       "    <tr>\n",
       "      <th>3</th>\n",
       "      <td>aa05346ff</td>\n",
       "      <td>NaN</td>\n",
       "    </tr>\n",
       "    <tr>\n",
       "      <th>4</th>\n",
       "      <td>57512b7f1</td>\n",
       "      <td>NaN</td>\n",
       "    </tr>\n",
       "  </tbody>\n",
       "</table>\n",
       "</div>"
      ],
      "text/plain": [
       "          id  predicted\n",
       "0  2ec3f1bb9        NaN\n",
       "1  3589adb90        NaN\n",
       "2  d488c759a        NaN\n",
       "3  aa05346ff        NaN\n",
       "4  57512b7f1        NaN"
      ]
     },
     "execution_count": 8,
     "metadata": {},
     "output_type": "execute_result"
    }
   ],
   "source": [
    "df_sub"
   ]
  },
  {
   "cell_type": "code",
   "execution_count": 14,
   "id": "mysterious-sullivan",
   "metadata": {},
   "outputs": [
    {
     "name": "stderr",
     "output_type": "stream",
     "text": [
      "  0%|          | 0/5 [00:00<?, ?it/s]/home/trytolose/miniconda3/envs/audio/lib/python3.8/site-packages/rasterio/__init__.py:207: NotGeoreferencedWarning: Dataset has no geotransform, gcps, or rpcs. The identity matrix be returned.\n",
      "  s = DatasetReader(path, driver=driver, sharing=sharing, **kwargs)\n"
     ]
    },
    {
     "name": "stdout",
     "output_type": "stream",
     "text": [
      "(23990, 47723, 3)\n"
     ]
    },
    {
     "name": "stderr",
     "output_type": "stream",
     "text": [
      " 20%|██        | 1/5 [00:23<01:35, 23.84s/it]"
     ]
    },
    {
     "name": "stdout",
     "output_type": "stream",
     "text": [
      "(29433, 22165, 3)\n"
     ]
    },
    {
     "name": "stderr",
     "output_type": "stream",
     "text": [
      " 40%|████      | 2/5 [00:36<00:51, 17.26s/it]"
     ]
    },
    {
     "name": "stdout",
     "output_type": "stream",
     "text": [
      "(46660, 29020, 3)\n"
     ]
    },
    {
     "name": "stderr",
     "output_type": "stream",
     "text": [
      " 60%|██████    | 3/5 [01:10<00:49, 24.96s/it]"
     ]
    },
    {
     "name": "stdout",
     "output_type": "stream",
     "text": [
      "(30720, 47340, 3)\n"
     ]
    },
    {
     "name": "stderr",
     "output_type": "stream",
     "text": [
      " 80%|████████  | 4/5 [01:39<00:26, 26.54s/it]"
     ]
    },
    {
     "name": "stdout",
     "output_type": "stream",
     "text": [
      "(33240, 43160, 3)\n"
     ]
    },
    {
     "name": "stderr",
     "output_type": "stream",
     "text": [
      "100%|██████████| 5/5 [02:03<00:00, 24.73s/it]\n"
     ]
    }
   ],
   "source": [
    "# !rm -rf ../../input/zarr_train_orig\n",
    "# !mkdir ../../input/zarr_train_orig\n",
    "# g_out = zarr.group(f'../../input/zarr_train_orig')\n",
    "path = \"/hdd/kaggle/hubmap/input_v2/test\"\n",
    "# g_out = zarr.open(\"../../input/zarr_train_orig\", mode=\"w\")\n",
    "for img_id, row in tqdm(df_sub.set_index(\"id\").iterrows(), total=len(df_sub)):\n",
    "#     image, h, w, h_new, w_new = read_image(img_id, input_path, scale=4)\n",
    "    image = read_image(img_id, path, scale=4)\n",
    "    h, w = image.shape[:2]\n",
    "    print(image.shape)\n",
    "    g_out[img_id] = image\n",
    "    del image\n",
    "    gc.collect()\n",
    "    gc.collect()\n",
    "#     mask = rle2mask(row['encoding'], (w, h)).astype(np.uint8)\n",
    "#     mask = cv2.resize(mask, (w_new, h_new))\n",
    "#     g_out[img_id+\"_mask\"] = mask\n",
    "#     del mask\n",
    "#     gc.collect()\n",
    "#     gc.collect()"
   ]
  },
  {
   "cell_type": "code",
   "execution_count": 15,
   "id": "inclusive-agenda",
   "metadata": {},
   "outputs": [],
   "source": [
    "df_pseudo = pd.read_csv(\"public_predicts/924lb.csv\").set_index('id')\n",
    "g_out = zarr.open(\"../../input/zarr_train_orig\", mode=\"r+\")\n",
    "h, w = g_out[\"aa05346ff\"].shape[:2]\n",
    "mask = rle2mask(df_pseudo.loc['aa05346ff', 'predicted'], (w, h)).astype(np.uint8)\n",
    "g_out[\"aa05346ff_mask\"] = mask"
   ]
  },
  {
   "cell_type": "code",
   "execution_count": 3,
   "id": "ahead-typing",
   "metadata": {},
   "outputs": [
    {
     "name": "stdout",
     "output_type": "stream",
     "text": [
      "public_predicts/blend.csv\n"
     ]
    }
   ],
   "source": [
    "!ls public_predicts/blend.csv"
   ]
  },
  {
   "cell_type": "code",
   "execution_count": 10,
   "id": "authorized-buffer",
   "metadata": {},
   "outputs": [
    {
     "data": {
      "text/plain": [
       "Index(['aa05346ff', '2ec3f1bb9', '3589adb90', 'd488c759a', '57512b7f1'], dtype='object', name='id')"
      ]
     },
     "execution_count": 10,
     "metadata": {},
     "output_type": "execute_result"
    }
   ],
   "source": [
    "df_blend.index"
   ]
  },
  {
   "cell_type": "code",
   "execution_count": 8,
   "id": "maritime-arrangement",
   "metadata": {},
   "outputs": [],
   "source": [
    "df_blend = pd.read_csv(\"public_predicts/blend.csv\").set_index('id')\n",
    "g_out = zarr.open(\"../../input/zarr_train_orig\", mode=\"r+\")\n",
    "for idx, row in df_blend.iterrows():\n",
    "\n",
    "    h, w = g_out[idx].shape[:2]\n",
    "    mask = rle2mask(row['predicted'], (w, h)).astype(np.uint8)\n",
    "    g_out[f\"{idx}_mask\"] = mask"
   ]
  },
  {
   "cell_type": "code",
   "execution_count": 11,
   "id": "pretty-stock",
   "metadata": {},
   "outputs": [
    {
     "name": "stderr",
     "output_type": "stream",
     "text": [
      "/home/trytolose/miniconda3/envs/audio/lib/python3.8/site-packages/torch/optim/lr_scheduler.py:129: UserWarning: Detected call of `lr_scheduler.step()` before `optimizer.step()`. In PyTorch 1.1.0 and later, you should call them in the opposite order: `optimizer.step()` before `lr_scheduler.step()`.  Failure to do this will result in PyTorch skipping the first value of the learning rate schedule. See more details at https://pytorch.org/docs/stable/optim.html#how-to-adjust-learning-rate\n",
      "  warnings.warn(\"Detected call of `lr_scheduler.step()` before `optimizer.step()`. \"\n",
      "/home/trytolose/miniconda3/envs/audio/lib/python3.8/site-packages/torch/optim/lr_scheduler.py:154: UserWarning: The epoch parameter in `scheduler.step()` was not necessary and is being deprecated where possible. Please use `scheduler.step()` to step the scheduler. During the deprecation, if epoch is different from None, the closed form is used instead of the new chainable form, where available. Please open an issue if you are unable to replicate your use case: https://github.com/pytorch/pytorch/issues/new/choose.\n",
      "  warnings.warn(EPOCH_DEPRECATION_WARNING, UserWarning)\n",
      "/home/trytolose/miniconda3/envs/audio/lib/python3.8/site-packages/torch/optim/lr_scheduler.py:508: UserWarning: To get the last learning rate computed by the scheduler, please use `get_last_lr()`.\n",
      "  warnings.warn(\"To get the last learning rate computed by the scheduler, \"\n"
     ]
    },
    {
     "data": {
      "text/plain": [
       "[<matplotlib.lines.Line2D at 0x7f3151ca25e0>]"
      ]
     },
     "execution_count": 11,
     "metadata": {},
     "output_type": "execute_result"
    },
    {
     "data": {
      "image/png": "[encoded data removed]",
      "text/plain": [
       "<Figure size 1440x216 with 1 Axes>"
      ]
     },
     "metadata": {
      "needs_background": "light"
     },
     "output_type": "display_data"
    }
   ],
   "source": [
    "from warmup_scheduler import GradualWarmupScheduler\n",
    "import torch\n",
    "from torch import optim\n",
    "import segmentation_models_pytorch as smp\n",
    "import matplotlib.pyplot as plt\n",
    "\n",
    "class GradualWarmupSchedulerV2(GradualWarmupScheduler):\n",
    "    def __init__(self, optimizer, multiplier, total_epoch, after_scheduler=None):\n",
    "        super(GradualWarmupSchedulerV2, self).__init__(optimizer, multiplier, total_epoch, after_scheduler)\n",
    "    def get_lr(self):\n",
    "        if self.last_epoch > self.total_epoch:\n",
    "            if self.after_scheduler:\n",
    "                if not self.finished:\n",
    "                    self.after_scheduler.base_lrs = [base_lr * self.multiplier for base_lr in self.base_lrs]\n",
    "                    self.finished = True\n",
    "                return self.after_scheduler.get_lr()\n",
    "            return [base_lr * self.multiplier for base_lr in self.base_lrs]\n",
    "        if self.multiplier == 1.0:\n",
    "            return [base_lr * (float(self.last_epoch) / self.total_epoch) for base_lr in self.base_lrs]\n",
    "        else:\n",
    "            return [base_lr * ((self.multiplier - 1.) * self.last_epoch / self.total_epoch + 1.) for base_lr in self.base_lrs]\n",
    "\n",
    "init_lr = 1e-4\n",
    "warmup_epo = 1\n",
    "cosine_epo = 29\n",
    "n_epochs = warmup_epo + cosine_epo\n",
    "m = smp.Unet(\"resnet34\")\n",
    "optimizer = optim.Adam(m.parameters(), lr=init_lr)\n",
    "scheduler_cosine = torch.optim.lr_scheduler.CosineAnnealingLR(optimizer, cosine_epo)\n",
    "scheduler_warmup = GradualWarmupSchedulerV2(optimizer, multiplier=10, total_epoch=warmup_epo, after_scheduler=scheduler_cosine)\n",
    "lrs = []\n",
    "for epoch in range(1, n_epochs+1):\n",
    "    scheduler_warmup.step(epoch-1)\n",
    "    lrs.append(optimizer.param_groups[0][\"lr\"])\n",
    "# rcParams['figure.figsize'] = 20,3\n",
    "plt.figure(figsize=(20, 3))\n",
    "plt.plot(lrs)"
   ]
  },
  {
   "cell_type": "code",
   "execution_count": 6,
   "id": "inside-history",
   "metadata": {},
   "outputs": [],
   "source": [
    "import numpy as np"
   ]
  },
  {
   "cell_type": "code",
   "execution_count": 10,
   "id": "regional-kernel",
   "metadata": {},
   "outputs": [
    {
     "name": "stdout",
     "output_type": "stream",
     "text": [
      "total 488\n",
      "-rw-rw-r-- 1 trytolose trytolose 193173 Apr 11 22:52 train_fold0_crop_1024_img_1024_step_512.csv\n",
      "-rw-rw-r-- 1 trytolose trytolose 193173 Apr 10 16:21 train_fold0_crop_1024_img_256_step_1024.csv\n",
      "-rw-rw-r-- 1 trytolose trytolose  47977 Apr 11 22:54 valid_fold0_crop_1024_img_1024_step_1024.csv\n",
      "-rw-rw-r-- 1 trytolose trytolose  47977 Apr 10 16:22 valid_fold0_crop_1024_img_256_step_1024.csv\n",
      "-rw-rw-r-- 1 trytolose trytolose   6969 Apr 10 17:29 valid_fold0_crop_16384_img_4096_step_4096.csv\n"
     ]
    }
   ],
   "source": [
    "!ls -l ../../input/calc_coords"
   ]
  },
  {
   "cell_type": "code",
   "execution_count": null,
   "id": "matched-toilet",
   "metadata": {},
   "outputs": [],
   "source": []
  }
 ],
 "metadata": {
  "kernelspec": {
   "display_name": "Python 3",
   "language": "python",
   "name": "python3"
  },
  "language_info": {
   "codemirror_mode": {
    "name": "ipython",
    "version": 3
   },
   "file_extension": ".py",
   "mimetype": "text/x-python",
   "name": "python",
   "nbconvert_exporter": "python",
   "pygments_lexer": "ipython3",
   "version": "3.8.5"
  }
 },
 "nbformat": 4,
 "nbformat_minor": 5
}
