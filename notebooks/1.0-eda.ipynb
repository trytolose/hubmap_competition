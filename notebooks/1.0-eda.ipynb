{
 "cells": [
  {
   "cell_type": "code",
   "execution_count": null,
   "id": "twelve-discrimination",
   "metadata": {},
   "outputs": [],
   "source": [
    "import sys\n",
    "sys.path.insert(0, \"../\")\n",
    "\n",
    "import numpy as np\n",
    "import pandas as pd\n",
    "import matplotlib.pyplot as plt\n",
    "from tqdm import tqdm\n",
    "import cv2\n",
    "from pathlib import Path\n",
    "import tifffile\n",
    "import gc"
   ]
  },
  {
   "cell_type": "code",
   "execution_count": null,
   "id": "annual-worth",
   "metadata": {},
   "outputs": [],
   "source": [
    "INPUT_PATH = Path(\"/hdd/kaggle/hubmap/input_v2\")   \n",
    "df_train = pd.read_csv(INPUT_PATH / \"train.csv\")\n",
    "train_info = pd.read_csv(INPUT_PATH / \"HuBMAP-20-dataset_information.csv\")\n",
    "train_tiffs = list((INPUT_PATH / \"train\").glob('*.tiff'))"
   ]
  },
  {
   "cell_type": "code",
   "execution_count": null,
   "id": "intimate-information",
   "metadata": {},
   "outputs": [],
   "source": [
    "train_info.columns"
   ]
  },
  {
   "cell_type": "raw",
   "id": "affiliated-helen",
   "metadata": {},
   "source": [
    "095bf7a1f.tiff (3, 38160, 39000)\n",
    "4ef6695ce.tiff (3, 39960, 50680)\n",
    "c68fe75ea.tiff (3, 26840, 49780)\n",
    "b9a3865fc.tiff (31295, 40429, 3)\n",
    "afa5e8098.tiff (36800, 43780, 3)\n",
    "cb2d976f4.tiff (34940, 49548, 3)\n",
    "8242609fa.tiff (31299, 44066, 3)\n",
    "2f6ecfcdf.tiff (31278, 25794, 3)\n",
    "0486052bb.tiff (25784, 34937, 3)\n",
    "b2dc8411c.tiff (14844, 31262, 3)\n",
    "54f2eec69.tiff (3, 30440, 22240)\n",
    "e79de561c.tiff (3, 16180, 27020)\n",
    "26dc41664.tiff (3, 38160, 42360)\n",
    "1e2425f28.tiff (3, 26780, 32220)\n",
    "aaa6a05cc.tiff (18484, 13013, 3)"
   ]
  },
  {
   "cell_type": "code",
   "execution_count": null,
   "id": "distant-roulette",
   "metadata": {},
   "outputs": [],
   "source": [
    "masks = list(Path(\"/hdd/kaggle/hubmap/input_v2/train_v3_4096_1024/masks\").glob(\"*.png\"))"
   ]
  },
  {
   "cell_type": "code",
   "execution_count": null,
   "id": "baking-rough",
   "metadata": {},
   "outputs": [],
   "source": [
    "for i, img_path in enumerate(train_tiffs):\n",
    "    image = tifffile.imread(img_path).squeeze()\n",
    "    print(img_path,'\\n', image.shape)\n",
    "    if image.shape[0]==3:\n",
    "        image = np.transpose(image, (1,2,0))\n",
    "    h, w  = image.shape[:2]\n",
    "    image = cv2.resize(image, (int(w//10), int(h//10)))\n",
    "    \n",
    "    mask = np.zeros((h, w), dtype=np.uint8)\n",
    "    cur_masks = [(int(x.stem.split(\"_\")[1]), int(x.stem.split(\"_\")[2])) for x in masks if x.stem.split(\"_\")[0] == Path(img_path).stem]\n",
    "    for x, y in cur_masks:\n",
    "        mask[y:y+2048*2, x:x+2048*2] = 1\n",
    "    mask = cv2.resize(mask, (int(w//10), int(h//10)))   \n",
    "    plt.figure(figsize=(10,10))\n",
    "    plt.grid()\n",
    "    plt.imshow(image)\n",
    "    plt.imshow(mask, alpha=0.4)\n",
    "    plt.show()\n",
    "    del image\n",
    "    gc.collect()\n"
   ]
  },
  {
   "cell_type": "code",
   "execution_count": null,
   "id": "subtle-porcelain",
   "metadata": {},
   "outputs": [],
   "source": [
    "image = tifffile.imread(\"/hdd/kaggle/hubmap/input_v2/train/aaa6a05cc.tiff\").squeeze()\n",
    "# print(img_path,'\\n', image.shape)\n",
    "if image.shape[0]==3:\n",
    "    image = np.transpose(image, (1,2,0))\n",
    "h, w  = image.shape[:2]\n",
    "image = cv2.resize(image, (int(w//10), int(h//10)))\n",
    "plt.figure(figsize=(30,30))\n",
    "plt.grid()\n",
    "plt.imshow(image)"
   ]
  },
  {
   "cell_type": "code",
   "execution_count": null,
   "id": "decent-experiment",
   "metadata": {},
   "outputs": [],
   "source": [
    "!ls ../../input/zarr_train_orig"
   ]
  },
  {
   "cell_type": "code",
   "execution_count": null,
   "id": "confused-italic",
   "metadata": {},
   "outputs": [],
   "source": [
    "def _check_background(img, crop_size) -> bool:\n",
    "    s_th = 40  # saturation blancking threshold\n",
    "    p_th = 1000 * (crop_size // 256) ** 2  # threshold for the minimum number of pixels\n",
    "    hsv = cv2.cvtColor(img, cv2.COLOR_BGR2HSV)\n",
    "    _, ss, _ = cv2.split(hsv)\n",
    "    background = False if (ss > s_th).sum() <= p_th or img.sum() <= p_th else True\n",
    "    return background\n",
    "\n",
    "\n",
    "def get_crop_coords(image, crop_size, step):\n",
    "    h, w = image.shape[:2]\n",
    "    coord = []\n",
    "    for y in tqdm(range(0, h, step)):\n",
    "        for x in range(0, w, step):\n",
    "\n",
    "            if x + crop_size > w:\n",
    "                x = w - crop_size\n",
    "            if y + crop_size > h:\n",
    "                y = h - crop_size\n",
    "                \n",
    "            crop_image = image[y: y+crop_size, x:x+crop_size]\n",
    "            if _check_background(crop_image, crop_size):\n",
    "                coord.append((x, y, crop_size))\n",
    "                \n",
    "    return np.array(coord)    \n",
    "            \n",
    "#             image[y: y+40, x:x+4096] = 255\n",
    "#             image[y + 4096 - 40: y + 4096, x:x+4096] = 255\n",
    "#             image[y: y + 4096, x: x + 40] = 255\n",
    "#             image[y: y + 4096, x + 4096 - 40: x + 4096] = 255"
   ]
  },
  {
   "cell_type": "code",
   "execution_count": null,
   "id": "physical-employment",
   "metadata": {},
   "outputs": [],
   "source": [
    "import zarr\n",
    "zarr = zarr.open(\"../../input/zarr_train_orig\", mode=\"r\")\n",
    "image = zarr['aa05346ff'][:]\n",
    "h, w = image.shape[:2]\n",
    "\n",
    "coords = get_crop_coords(image, 1024, 1024)\n",
    "\n",
    "for x, y, crop_size in coords:\n",
    "    image[y: y+40, x:x+crop_size] = 255\n",
    "    image[y + crop_size - 40: y + crop_size, x:x+crop_size] = 255\n",
    "    image[y: y + crop_size, x: x + 40] = 255\n",
    "    image[y: y + crop_size, x + crop_size - 40: x + crop_size] = 255\n",
    "# for y in range(0, h, 4096):\n",
    "#     for x in range(0, w, 4096):\n",
    "#         image[y: y+40, x:x+4096] = 255\n",
    "#         image[y + 4096 - 40: y + 4096, x:x+4096] = 255\n",
    "#         image[y: y + 4096, x: x + 40] = 255\n",
    "#         image[y: y + 4096, x + 4096 - 40: x + 4096] = 255\n",
    "            \n",
    "image = cv2.resize(image, (int(w//10), int(h//10)))\n",
    "plt.figure(figsize=(30,30))\n",
    "plt.grid()\n",
    "plt.imshow(image)"
   ]
  },
  {
   "cell_type": "code",
   "execution_count": null,
   "id": "entitled-commercial",
   "metadata": {},
   "outputs": [],
   "source": [
    "x = [[\"one\", 1, 4],[\"two\", 2, 5],[\"three\", 3, 6]]\n",
    "xx = pd.DataFrame(x, columns=[\"img_id\", \"x\", \"y\"])"
   ]
  },
  {
   "cell_type": "code",
   "execution_count": null,
   "id": "textile-tamil",
   "metadata": {},
   "outputs": [],
   "source": [
    "w, e, r = xx.loc[0]"
   ]
  },
  {
   "cell_type": "code",
   "execution_count": null,
   "id": "established-active",
   "metadata": {},
   "outputs": [],
   "source": [
    "r"
   ]
  },
  {
   "cell_type": "code",
   "execution_count": null,
   "id": "endless-folks",
   "metadata": {},
   "outputs": [],
   "source": []
  },
  {
   "cell_type": "code",
   "execution_count": null,
   "id": "geographic-celtic",
   "metadata": {},
   "outputs": [],
   "source": [
    "!ls -l /hdd/kaggle/hubmap/input_v2/train_v1_1024"
   ]
  },
  {
   "cell_type": "code",
   "execution_count": null,
   "id": "sunset-induction",
   "metadata": {},
   "outputs": [],
   "source": [
    "df = pd.read_csv(\"/hdd/kaggle/hubmap/input_v2/train_v1_1024/meta.csv\")"
   ]
  },
  {
   "cell_type": "code",
   "execution_count": null,
   "id": "foster-press",
   "metadata": {},
   "outputs": [],
   "source": [
    "img_ids = df['img_id'].unique()\n",
    "\n",
    "for img_id in img_ids:\n",
    "    glom_sq = df[df['img_id']==img_id][\"glomerulus_pix\"].sum()\n",
    "    tis_sq = len(df[df['img_id']==img_id])*(1024**2)\n",
    "    print(f\"{img_id}: {glom_sq/tis_sq:.3f} sq: {glom_sq}\")"
   ]
  },
  {
   "cell_type": "code",
   "execution_count": null,
   "id": "alert-carnival",
   "metadata": {},
   "outputs": [],
   "source": [
    "FOLD_IMGS = {\n",
    "    0: [\"4ef6695ce\", \"0486052bb\", \"2f6ecfcdf\"],\n",
    "    1: [\"c68fe75ea\", \"095bf7a1f\", \"aaa6a05cc\"],\n",
    "    2: [\"afa5e8098\", \"1e2425f28\", \"b2dc8411c\"],\n",
    "    3: [\"cb2d976f4\", \"8242609fa\", \"54f2eec69\"],\n",
    "    4: [\"26dc41664\", \"b9a3865fc\", \"e79de561c\"],\n",
    "}"
   ]
  }
 ],
 "metadata": {
  "kernelspec": {
   "display_name": "Python 3",
   "language": "python",
   "name": "python3"
  },
  "language_info": {
   "codemirror_mode": {
    "name": "ipython",
    "version": 3
   },
   "file_extension": ".py",
   "mimetype": "text/x-python",
   "name": "python",
   "nbconvert_exporter": "python",
   "pygments_lexer": "ipython3",
   "version": "3.8.5"
  }
 },
 "nbformat": 4,
 "nbformat_minor": 5
}
