{
 "cells": [
  {
   "cell_type": "code",
   "execution_count": 1,
   "id": "unknown-afternoon",
   "metadata": {},
   "outputs": [],
   "source": [
    "import sys\n",
    "sys.path.insert(0, \"../\")"
   ]
  },
  {
   "cell_type": "code",
   "execution_count": 2,
   "id": "cooperative-programmer",
   "metadata": {},
   "outputs": [],
   "source": [
    "import numpy as np\n",
    "import matplotlib.pyplot as plt\n",
    "import cv2\n",
    "import pandas as pd\n",
    "from pathlib import Path\n",
    "import tifffile\n",
    "from torch.utils.data import DataLoader\n",
    "from src.loops.loops import validation_full_image, inference, inference_overlap\n",
    "from src.utils.utils import rle2mask, IMAGE_SIZES, mask2rle\n",
    "from src.transforms.transform import base_transform, valid_transform\n",
    "from src.datasets.dataset import ImageDataset, SingleTiffDataset\n",
    "from src.utils.metrics import dice_numpy\n",
    "import gc\n",
    "import rasterio\n",
    "from tqdm import tqdm"
   ]
  },
  {
   "cell_type": "code",
   "execution_count": 3,
   "id": "concerned-fitness",
   "metadata": {},
   "outputs": [],
   "source": [
    "df = pd.read_csv(\"/hdd/kaggle/hubmap/input_v2/train.csv\").set_index(\"id\", drop=True)\n",
    "df_sub = pd.read_csv(\"/hdd/kaggle/hubmap/input_v2/sample_submission.csv\").set_index(\"id\", drop=True)\n",
    "df_crops = pd.read_csv(\"/hdd/kaggle/hubmap/input_v2/train_v1_1024/split_v2.csv\")\n",
    "df_valid = df_crops[df_crops[\"fold\"] == 0].reset_index(drop=True)\n",
    "img_ids = df_valid[\"img_id\"].unique()"
   ]
  },
  {
   "cell_type": "code",
   "execution_count": 4,
   "id": "straight-three",
   "metadata": {},
   "outputs": [],
   "source": [
    "def draw_contours(img, mask, color=(0, 0, 255), thinkness=10):\n",
    "\n",
    "    contours, _ = cv2.findContours(mask, cv2.RETR_LIST, cv2.CHAIN_APPROX_NONE)\n",
    "#     print(len(contours))\n",
    "#     print(type(img), img.dtype)\n",
    "    for i in range(0, len(contours)):\n",
    "#         print(i)\n",
    "        cv2.polylines(img, np.int32(contours[i]), True, color, thinkness)\n",
    "\n",
    "    \n",
    "#     return img"
   ]
  },
  {
   "cell_type": "code",
   "execution_count": 5,
   "id": "collectible-elements",
   "metadata": {},
   "outputs": [],
   "source": [
    "# img_id = \"57512b7f1\"\n",
    "def get_tiff(img_id, path=\"/hdd/kaggle/hubmap/input_v2/test\"):\n",
    "    img_path = Path(path) / f\"{img_id}.tiff\"\n",
    "    dataset = rasterio.open(img_path, num_threads=\"all_cpus\")\n",
    "    # mask_main, mask_second = create_masks(img_id, rle, path)\n",
    "\n",
    "    h, w = dataset.height, dataset.width\n",
    "    if dataset.count == 3:\n",
    "        image = dataset.read()#.transpose(1, 2, 0).astype(np.uint8)\n",
    "        image = np.stack([x for x in image], axis=2).astype(np.uint8)\n",
    "    else:\n",
    "        layers = []\n",
    "        subdatasets = dataset.subdatasets\n",
    "        if len(subdatasets) > 0:\n",
    "            for i, subdataset in enumerate(subdatasets, 0):\n",
    "                layers.append(rasterio.open(subdataset))\n",
    "        image = np.stack([x.read().squeeze() for x in layers], axis=2).astype(np.uint8)\n",
    "    return image"
   ]
  },
  {
   "cell_type": "code",
   "execution_count": null,
   "id": "distributed-isolation",
   "metadata": {},
   "outputs": [
    {
     "name": "stderr",
     "output_type": "stream",
     "text": [
      "/home/trytolose/miniconda3/envs/audio/lib/python3.8/site-packages/rasterio/__init__.py:207: NotGeoreferencedWarning: Dataset has no geotransform, gcps, or rpcs. The identity matrix be returned.\n",
      "  s = DatasetReader(path, driver=driver, sharing=sharing, **kwargs)\n"
     ]
    }
   ],
   "source": [
    "df_public = pd.read_csv(\"submission.csv\").set_index(\"id\", drop=True)\n",
    "df_pred_no_resize = pd.read_csv(\"1024_no_resize.csv\").set_index('id')\n",
    "df_pred_resize = pd.read_csv(\"1024_resize.csv\").set_index(\"id\", drop=True)\n",
    "\n",
    "for img_id in df_public.index[1:]:\n",
    "#     print(img_id)\n",
    "    image = get_tiff(img_id)\n",
    "    h, w = image.shape[:2]\n",
    "    \n",
    "    mask_no_resize = rle2mask(df_pred_no_resize.loc[img_id, \"predicted\"], (w, h))\n",
    "    mask_public = rle2mask(df_public.loc[img_id, \"predicted\"], (w, h))\n",
    "    mask_resize = rle2mask(df_pred_resize.loc[img_id, \"predicted\"], (w, h))\n",
    "\n",
    "    draw_contours(image, mask_public, (0, 255, 0), thinkness=17)\n",
    "    draw_contours(image, mask_resize, (255, 0, 0), thinkness=14)\n",
    "    draw_contours(image, mask_no_resize, (0, 0, 255), thinkness=10)\n",
    "    cv2.imwrite(f\"/hdd/kaggle/hubmap/public_predicted/{img_id}.tiff\", image)\n",
    "    \n",
    "    del image, mask_no_resize, mask_public, mask_resize\n",
    "    gc.collect()\n",
    "    gc.collect()"
   ]
  },
  {
   "cell_type": "markdown",
   "id": "demographic-start",
   "metadata": {},
   "source": [
    "## Draw contours on train images"
   ]
  },
  {
   "cell_type": "code",
   "execution_count": 10,
   "id": "leading-hearts",
   "metadata": {},
   "outputs": [
    {
     "name": "stdout",
     "output_type": "stream",
     "text": [
      "2f6ecfcdf\n",
      "<class 'numpy.ndarray'> uint8\n",
      "8242609fa\n",
      "<class 'numpy.ndarray'> uint8\n",
      "aaa6a05cc\n",
      "<class 'numpy.ndarray'> uint8\n",
      "cb2d976f4\n",
      "<class 'numpy.ndarray'> uint8\n",
      "b9a3865fc\n",
      "<class 'numpy.ndarray'> uint8\n",
      "b2dc8411c\n",
      "<class 'numpy.ndarray'> uint8\n",
      "0486052bb\n",
      "<class 'numpy.ndarray'> uint8\n",
      "e79de561c\n",
      "<class 'numpy.ndarray'> uint8\n",
      "095bf7a1f\n",
      "<class 'numpy.ndarray'> uint8\n",
      "54f2eec69\n",
      "<class 'numpy.ndarray'> uint8\n",
      "4ef6695ce\n",
      "<class 'numpy.ndarray'> uint8\n",
      "26dc41664\n",
      "<class 'numpy.ndarray'> uint8\n",
      "c68fe75ea\n",
      "<class 'numpy.ndarray'> uint8\n",
      "afa5e8098\n",
      "<class 'numpy.ndarray'> uint8\n",
      "1e2425f28\n",
      "<class 'numpy.ndarray'> uint8\n"
     ]
    }
   ],
   "source": [
    "for img_id in df.index:\n",
    "    print(img_id)\n",
    "    image = get_tiff(img_id, path=\"/hdd/kaggle/hubmap/input_v2/train\")\n",
    "    h, w = image.shape[:2]\n",
    "    \n",
    "    mask_gt = rle2mask(df.loc[img_id, \"encoding\"], (w, h))\n",
    "    draw_contours(image, mask_gt, (0, 0, 255), thinkness=10)\n",
    "    cv2.imwrite(f\"/hdd/kaggle/hubmap/train_with_mask/{img_id}.tiff\", image)\n",
    "    \n",
    "    del image, mask_gt\n",
    "    gc.collect()\n",
    "    gc.collect()"
   ]
  },
  {
   "cell_type": "code",
   "execution_count": 1,
   "id": "prepared-batch",
   "metadata": {},
   "outputs": [
    {
     "name": "stdout",
     "output_type": "stream",
     "text": [
      "0486052bb.tiff\t26dc41664.tiff\t54f2eec69.tiff\tafa5e8098.tiff\tc68fe75ea.tiff\n",
      "095bf7a1f.tiff\t2f6ecfcdf.tiff\t8242609fa.tiff\tb2dc8411c.tiff\tcb2d976f4.tiff\n",
      "1e2425f28.tiff\t4ef6695ce.tiff\taaa6a05cc.tiff\tb9a3865fc.tiff\te79de561c.tiff\n"
     ]
    }
   ],
   "source": [
    "!ls /hdd/kaggle/hubmap/train_with_mask/"
   ]
  },
  {
   "cell_type": "code",
   "execution_count": 6,
   "id": "damaged-bible",
   "metadata": {},
   "outputs": [
    {
     "name": "stdout",
     "output_type": "stream",
     "text": [
      "total 66672\n",
      "-rw-rw-r-- 1 trytolose trytolose 6411831 Apr 11 11:18 1024_256_score_0.9166_lb_0.923.csv\n",
      "-rw-rw-r-- 1 trytolose trytolose 5915930 Apr 26 13:09 1024_512_2_head_897lb.csv\n",
      "-rw-rw-r-- 1 trytolose trytolose 5403366 Apr 23 21:55 2048_1024_b3.csv\n",
      "-rw-rw-r-- 1 trytolose trytolose 6372875 Apr 12 11:17 924lb.csv\n",
      "-rw-rw-r-- 1 trytolose trytolose     141 Apr 14 13:00 dataset-metadata.json\n",
      "-rw-rw-r-- 1 trytolose trytolose 6961344 Apr 11 21:51 effnet-0.csv\n",
      "-rw-rw-r-- 1 trytolose trytolose 6378633 Apr 11 22:20 effnet-1.csv\n",
      "-rw-rw-r-- 1 trytolose trytolose 6256218 Apr 11 19:44 hard_augs.csv\n",
      "-rw-rw-r-- 1 trytolose trytolose 5586532 Apr 12 23:25 no_resize_1024_lb_920.csv\n",
      "-rw-rw-r-- 1 trytolose trytolose 6314221 Apr 11 13:49 public_aug_w0.5_epoch_34_score_0.9175_lb_0.921.csv\n",
      "-rw-rw-r-- 1 trytolose trytolose 6355181 Apr 11 11:19 public_aug_w0.5_myloss_epoch_34_score_0.9175_lb_0.918.csv\n",
      "-rw-rw-r-- 1 trytolose trytolose 6288705 Apr 11 20:01 random_4096_1024_lb_921.csv\n"
     ]
    }
   ],
   "source": [
    "!ls -l public_predicts/"
   ]
  },
  {
   "cell_type": "code",
   "execution_count": 7,
   "id": "focal-scale",
   "metadata": {},
   "outputs": [
    {
     "name": "stderr",
     "output_type": "stream",
     "text": [
      "  0%|          | 0/5 [00:00<?, ?it/s]/home/trytolose/miniconda3/envs/audio/lib/python3.8/site-packages/rasterio/__init__.py:207: NotGeoreferencedWarning: Dataset has no geotransform, gcps, or rpcs. The identity matrix be returned.\n",
      "  s = DatasetReader(path, driver=driver, sharing=sharing, **kwargs)\n",
      "100%|██████████| 5/5 [05:27<00:00, 65.50s/it]\n"
     ]
    }
   ],
   "source": [
    "df_pred_923 = pd.read_csv(\"public_predicts/924lb.csv\").set_index('id')\n",
    "df_pred_aug = pd.read_csv(\"public_predicts/1024_512_2_head_897lb.csv\").set_index('id')\n",
    "\n",
    "\n",
    "for img_id in tqdm(df_pred_923.index):\n",
    "#     print(img_id)\n",
    "    image = get_tiff(img_id)\n",
    "    h, w = image.shape[:2]\n",
    "    \n",
    "    mask_923 = rle2mask(df_pred_923.loc[img_id, \"predicted\"], (w, h))\n",
    "    mask_aug = rle2mask(df_pred_aug.loc[img_id, \"predicted\"], (w, h))\n",
    "\n",
    "    draw_contours(image, mask_923, (0, 255, 0), thinkness=10)\n",
    "    draw_contours(image, mask_aug, (255, 0, 0), thinkness=8)\n",
    "    cv2.imwrite(f\"/hdd/kaggle/hubmap/public_924_and_2048_b3/{img_id}.tiff\", image)\n",
    "    \n",
    "    del image, mask_923, mask_aug\n",
    "    gc.collect()\n",
    "    gc.collect()"
   ]
  },
  {
   "cell_type": "code",
   "execution_count": 7,
   "id": "graphic-investigation",
   "metadata": {},
   "outputs": [],
   "source": [
    "!mkdir /hdd/kaggle/hubmap/public_924_and_2048_b3"
   ]
  },
  {
   "cell_type": "code",
   "execution_count": 8,
   "id": "premier-found",
   "metadata": {},
   "outputs": [
    {
     "name": "stdout",
     "output_type": "stream",
     "text": [
      "total 16\n",
      "drwxrwxr-x 5 trytolose trytolose 4096 Nov 22 16:56 input\n",
      "drwxrwxr-x 7 trytolose trytolose 4096 Mar 25 19:39 input_v2\n",
      "drwxrwxr-x 2 trytolose trytolose 4096 Apr  3 21:02 public_predicted\n",
      "drwxrwxr-x 2 trytolose trytolose 4096 Apr  5 12:29 train_with_mask\n"
     ]
    }
   ],
   "source": [
    "!ls /hdd/kaggle/hubmap/ -l"
   ]
  },
  {
   "cell_type": "code",
   "execution_count": 9,
   "id": "prescribed-angola",
   "metadata": {},
   "outputs": [],
   "source": [
    "!rm -rf /hdd/kaggle/hubmap/public_923_4096 /hdd/kaggle/hubmap/public_923_effnet_0 /hdd/kaggle/hubmap/public_predicted "
   ]
  },
  {
   "cell_type": "code",
   "execution_count": 9,
   "id": "blank-kruger",
   "metadata": {},
   "outputs": [
    {
     "name": "stdout",
     "output_type": "stream",
     "text": [
      "calc_coords\t       train_1024_256_pseudo_v1  zarr_pdf\n",
      "d48_hand_labelled.csv  train_1024_512\t\t zarr_train\n",
      "train_1024_256\t       train_v3_4096_1024\t zarr_train_orig\n"
     ]
    }
   ],
   "source": [
    "!ls ../../input/d48_hand_labelled.csv"
   ]
  },
  {
   "cell_type": "code",
   "execution_count": 7,
   "id": "existing-presence",
   "metadata": {},
   "outputs": [
    {
     "data": {
      "text/html": [
       "<div>\n",
       "<style scoped>\n",
       "    .dataframe tbody tr th:only-of-type {\n",
       "        vertical-align: middle;\n",
       "    }\n",
       "\n",
       "    .dataframe tbody tr th {\n",
       "        vertical-align: top;\n",
       "    }\n",
       "\n",
       "    .dataframe thead th {\n",
       "        text-align: right;\n",
       "    }\n",
       "</style>\n",
       "<table border=\"1\" class=\"dataframe\">\n",
       "  <thead>\n",
       "    <tr style=\"text-align: right;\">\n",
       "      <th></th>\n",
       "      <th>predicted</th>\n",
       "    </tr>\n",
       "    <tr>\n",
       "      <th>id</th>\n",
       "      <th></th>\n",
       "    </tr>\n",
       "  </thead>\n",
       "  <tbody>\n",
       "    <tr>\n",
       "      <th>2ec3f1bb9</th>\n",
       "      <td>NaN</td>\n",
       "    </tr>\n",
       "    <tr>\n",
       "      <th>3589adb90</th>\n",
       "      <td>NaN</td>\n",
       "    </tr>\n",
       "    <tr>\n",
       "      <th>d488c759a</th>\n",
       "      <td>NaN</td>\n",
       "    </tr>\n",
       "    <tr>\n",
       "      <th>aa05346ff</th>\n",
       "      <td>NaN</td>\n",
       "    </tr>\n",
       "    <tr>\n",
       "      <th>57512b7f1</th>\n",
       "      <td>NaN</td>\n",
       "    </tr>\n",
       "  </tbody>\n",
       "</table>\n",
       "</div>"
      ],
      "text/plain": [
       "           predicted\n",
       "id                  \n",
       "2ec3f1bb9        NaN\n",
       "3589adb90        NaN\n",
       "d488c759a        NaN\n",
       "aa05346ff        NaN\n",
       "57512b7f1        NaN"
      ]
     },
     "execution_count": 7,
     "metadata": {},
     "output_type": "execute_result"
    }
   ],
   "source": [
    "df_sub"
   ]
  },
  {
   "cell_type": "code",
   "execution_count": 6,
   "id": "afraid-theology",
   "metadata": {},
   "outputs": [
    {
     "name": "stderr",
     "output_type": "stream",
     "text": [
      "  0%|          | 0/1 [00:00<?, ?it/s]/home/trytolose/miniconda3/envs/audio/lib/python3.8/site-packages/rasterio/__init__.py:207: NotGeoreferencedWarning: Dataset has no geotransform, gcps, or rpcs. The identity matrix be returned.\n",
      "  s = DatasetReader(path, driver=driver, sharing=sharing, **kwargs)\n",
      "100%|██████████| 1/1 [01:13<00:00, 73.89s/it]\n"
     ]
    }
   ],
   "source": [
    "df_pred_923 = pd.read_csv(\"public_predicts/blend.csv\").set_index('id')\n",
    "df_pred_aug = pd.read_csv(\"public_predicts/random_4096_1024_lb_921.csv\").set_index('id')\n",
    "\n",
    "\n",
    "for img_id in tqdm(['aa05346ff']):\n",
    "#     print(img_id)\n",
    "    image = get_tiff(img_id)\n",
    "    h, w = image.shape[:2]\n",
    "    \n",
    "    mask_923 = rle2mask(df_pred_923.loc[img_id, \"predicted\"], (w, h))\n",
    "    mask_aug = rle2mask(df_pred_aug.loc[img_id, \"predicted\"], (w, h))\n",
    "\n",
    "    draw_contours(image, mask_923, (0, 255, 0), thinkness=10)\n",
    "    draw_contours(image, mask_aug, (255, 0, 0), thinkness=8)\n",
    "    cv2.imwrite(f\"/hdd/kaggle/hubmap/vitaly_timur/{img_id}.tiff\", image)\n",
    "    \n",
    "    del image, mask_923, mask_aug\n",
    "    gc.collect()\n",
    "    gc.collect()"
   ]
  },
  {
   "cell_type": "code",
   "execution_count": 2,
   "id": "secure-yemen",
   "metadata": {},
   "outputs": [
    {
     "name": "stdout",
     "output_type": "stream",
     "text": [
      "mkdir: cannot create directory '/hdd/kaggle/hubmap/vitaly_timur/': File exists\n"
     ]
    }
   ],
   "source": [
    "!mkdir /hdd/kaggle/hubmap/vitaly_timur/"
   ]
  },
  {
   "cell_type": "code",
   "execution_count": null,
   "id": "external-shock",
   "metadata": {},
   "outputs": [],
   "source": []
  }
 ],
 "metadata": {
  "kernelspec": {
   "display_name": "Python 3",
   "language": "python",
   "name": "python3"
  },
  "language_info": {
   "codemirror_mode": {
    "name": "ipython",
    "version": 3
   },
   "file_extension": ".py",
   "mimetype": "text/x-python",
   "name": "python",
   "nbconvert_exporter": "python",
   "pygments_lexer": "ipython3",
   "version": "3.8.5"
  }
 },
 "nbformat": 4,
 "nbformat_minor": 5
}
