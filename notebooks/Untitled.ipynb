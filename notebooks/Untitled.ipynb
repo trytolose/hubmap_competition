{
 "cells": [
  {
   "cell_type": "code",
   "execution_count": 5,
   "id": "reduced-repeat",
   "metadata": {},
   "outputs": [],
   "source": [
    "import sys\n",
    "sys.path.insert(0, \"../\")\n",
    "\n",
    "import numpy as np\n",
    "import pandas as pd\n",
    "import matplotlib.pyplot as plt\n",
    "from tqdm import tqdm\n",
    "import cv2\n",
    "from pathlib import Path\n",
    "import tifffile\n",
    "import gc\n",
    "from src.utils.utils import rle2mask, IMAGE_SIZES, mask2rle\n",
    "import rasterio"
   ]
  },
  {
   "cell_type": "code",
   "execution_count": 6,
   "id": "dental-synthetic",
   "metadata": {},
   "outputs": [],
   "source": [
    "INPUT_PATH = Path(\"/hdd/kaggle/hubmap/input_v2\")   \n",
    "df_train = pd.read_csv(INPUT_PATH / \"train.csv\")\n",
    "train_info = pd.read_csv(INPUT_PATH / \"HuBMAP-20-dataset_information.csv\")\n",
    "train_tiffs = list((INPUT_PATH / \"train\").glob('*.tiff'))"
   ]
  },
  {
   "cell_type": "code",
   "execution_count": 7,
   "id": "convenient-franklin",
   "metadata": {},
   "outputs": [],
   "source": [
    "def get_tiff(img_id, path=\"/hdd/kaggle/hubmap/input_v2/test\"):\n",
    "    img_path = Path(path) / f\"{img_id}.tiff\"\n",
    "    dataset = rasterio.open(img_path, num_threads=\"all_cpus\")\n",
    "    # mask_main, mask_second = create_masks(img_id, rle, path)\n",
    "    h, w = dataset.height, dataset.width\n",
    "    return h, w"
   ]
  },
  {
   "cell_type": "code",
   "execution_count": 4,
   "id": "quality-instrumentation",
   "metadata": {},
   "outputs": [],
   "source": [
    "df_sub = pd.read_csv(\"/hdd/kaggle/hubmap/input_v2/sample_submission.csv\").set_index(\"id\", drop=True)"
   ]
  },
  {
   "cell_type": "code",
   "execution_count": 9,
   "id": "urban-tribe",
   "metadata": {},
   "outputs": [
    {
     "name": "stdout",
     "output_type": "stream",
     "text": [
      "total 55612\n",
      "-rw-rw-r-- 1 trytolose trytolose 6411831 Apr 11 11:18 1024_256_score_0.9166_lb_0.923.csv\n",
      "-rw-rw-r-- 1 trytolose trytolose 6372875 Apr 12 11:17 924lb.csv\n",
      "-rw-rw-r-- 1 trytolose trytolose     141 Apr 14 13:00 dataset-metadata.json\n",
      "-rw-rw-r-- 1 trytolose trytolose 6961344 Apr 11 21:51 effnet-0.csv\n",
      "-rw-rw-r-- 1 trytolose trytolose 6378633 Apr 11 22:20 effnet-1.csv\n",
      "-rw-rw-r-- 1 trytolose trytolose 6256218 Apr 11 19:44 hard_augs.csv\n",
      "-rw-rw-r-- 1 trytolose trytolose 5586532 Apr 12 23:25 no_resize_1024_lb_920.csv\n",
      "-rw-rw-r-- 1 trytolose trytolose 6314221 Apr 11 13:49 public_aug_w0.5_epoch_34_score_0.9175_lb_0.921.csv\n",
      "-rw-rw-r-- 1 trytolose trytolose 6355181 Apr 11 11:19 public_aug_w0.5_myloss_epoch_34_score_0.9175_lb_0.918.csv\n",
      "-rw-rw-r-- 1 trytolose trytolose 6288705 Apr 11 20:01 random_4096_1024_lb_921.csv\n"
     ]
    }
   ],
   "source": [
    "!ls -l ./public_predicts/"
   ]
  },
  {
   "cell_type": "code",
   "execution_count": 5,
   "id": "broken-change",
   "metadata": {},
   "outputs": [],
   "source": [
    "df_no_resize = pd.read_csv(\"./public_predicts/no_resize_1024_lb_920.csv\").set_index(\"id\", drop=True)"
   ]
  },
  {
   "cell_type": "code",
   "execution_count": 20,
   "id": "general-topic",
   "metadata": {},
   "outputs": [
    {
     "name": "stderr",
     "output_type": "stream",
     "text": [
      "/home/trytolose/miniconda3/envs/audio/lib/python3.8/site-packages/rasterio/__init__.py:207: NotGeoreferencedWarning: Dataset has no geotransform, gcps, or rpcs. The identity matrix be returned.\n",
      "  s = DatasetReader(path, driver=driver, sharing=sharing, **kwargs)\n"
     ]
    }
   ],
   "source": [
    "img_id = '2ec3f1bb9'\n",
    "mask_rle = df_no_resize.loc[img_id, 'predicted']\n",
    "h, w = get_tiff(img_id)\n",
    "mask = rle2mask(mask_rle, (w, h))"
   ]
  },
  {
   "cell_type": "code",
   "execution_count": 21,
   "id": "brave-burton",
   "metadata": {},
   "outputs": [],
   "source": [
    "nb_components, output, stats, centroids = cv2.connectedComponentsWithStats(mask, connectivity=8)\n",
    "sizes = stats[:, -1]"
   ]
  },
  {
   "cell_type": "code",
   "execution_count": 6,
   "id": "personal-moore",
   "metadata": {},
   "outputs": [],
   "source": [
    "def filter_image(img_id, rle, min_sq=1000):\n",
    "    \n",
    "    path=\"/hdd/kaggle/hubmap/input_v2/test\"\n",
    "    img_path = Path(path) / f\"{img_id}.tiff\"\n",
    "    dataset = rasterio.open(img_path, num_threads=\"all_cpus\")\n",
    "    h, w = dataset.height, dataset.width\n",
    "    mask = rle2mask(rle, (w, h))\n",
    "\n",
    "    nb_components, output, stats, centroids = cv2.connectedComponentsWithStats(mask, connectivity=8)\n",
    "    sizes = stats[:, -1]\n",
    "    for i in range(1, nb_components):\n",
    "        if sizes[i] < min_sq:\n",
    "            mask[output == i] = 0\n",
    "    \n",
    "    rle_out = mask2rle(mask)\n",
    "    del mask, dataset, nb_components, output, stats, centroids\n",
    "    gc.collect()\n",
    "    gc.collect()\n",
    "    return rle_out"
   ]
  },
  {
   "cell_type": "code",
   "execution_count": null,
   "id": "severe-bacteria",
   "metadata": {},
   "outputs": [
    {
     "name": "stderr",
     "output_type": "stream",
     "text": [
      "  0%|          | 0/5 [00:00<?, ?it/s]/home/trytolose/miniconda3/envs/audio/lib/python3.8/site-packages/rasterio/__init__.py:207: NotGeoreferencedWarning: Dataset has no geotransform, gcps, or rpcs. The identity matrix be returned.\n",
      "  s = DatasetReader(path, driver=driver, sharing=sharing, **kwargs)\n",
      " 40%|████      | 2/5 [01:12<01:45, 35.05s/it]"
     ]
    }
   ],
   "source": [
    "for img_id, row in tqdm(df_no_resize.iterrows(), total=5):\n",
    "    df_sub.loc[img_id, 'predicted'] = filter_image(img_id, row['predicted'])"
   ]
  },
  {
   "cell_type": "code",
   "execution_count": null,
   "id": "irish-brush",
   "metadata": {},
   "outputs": [],
   "source": [
    "df_sub = df_sub.reset_index()\n",
    "df_sub.to_csv(\"1024_no_resize_filtered.csv\", index=False)"
   ]
  },
  {
   "cell_type": "code",
   "execution_count": 4,
   "id": "included-scheduling",
   "metadata": {},
   "outputs": [
    {
     "name": "stdout",
     "output_type": "stream",
     "text": [
      "total 2.1M\n",
      "drwxrwxr-x 2 trytolose trytolose 496K May  3 22:37 images\n",
      "drwxrwxr-x 2 trytolose trytolose 496K May  3 22:37 masks\n",
      "-rw-rw-r-- 1 trytolose trytolose 1.1M May  3 22:37 meta.csv\n"
     ]
    }
   ],
   "source": [
    "!ls -lh ../../input/train_1024_512"
   ]
  },
  {
   "cell_type": "code",
   "execution_count": 74,
   "id": "eleven-chester",
   "metadata": {},
   "outputs": [],
   "source": [
    "from iterstrat.ml_stratifiers import MultilabelStratifiedKFold\n",
    "import numpy as np\n",
    "\n",
    "# X = np.array([[1,2], [3,4], [1,2], [3,4], [1,2], [3,4], [1,2], [3,4]])\n",
    "# y = np.array([[0,0], [0,0], [0,1], [0,1], [1,1], [1,1], [1,0], [1,0]])\n",
    "\n",
    "# mskf = MultilabelStratifiedKFold(n_splits=2, shuffle=True, random_state=0)\n",
    "\n",
    "# for train_index, test_index in mskf.split(X, y):\n",
    "#    print(\"TRAIN:\", train_index, \"TEST:\", test_index)\n",
    "#    X_train, X_test = X[train_index], X[test_index]\n",
    "#    y_train, y_test = y[train_index], y[test_index]"
   ]
  },
  {
   "cell_type": "code",
   "execution_count": 101,
   "id": "square-stanley",
   "metadata": {},
   "outputs": [
    {
     "name": "stderr",
     "output_type": "stream",
     "text": [
      "/home/trytolose/miniconda3/envs/audio/lib/python3.8/site-packages/sklearn/utils/validation.py:70: FutureWarning: Pass shuffle=True, random_state=0 as keyword args. From version 1.0 (renaming of 0.25) passing these as positional arguments will result in an error\n",
      "  warnings.warn(f\"Pass {args_msg} as keyword args. From version \"\n"
     ]
    }
   ],
   "source": [
    "df = pd.read_csv(\"../../input/train_1024_512/meta.csv\")\n",
    "strf_cols = ['glomerulus_pix','medulla','cortex','outer_stripe','Inner medulla','Outer Medulla']\n",
    "for col in strf_cols:\n",
    "    df[col] = pd.cut(df[col], 10, labels=np.arange(10))\n",
    "    \n",
    "df['fold'] = 0\n",
    "mskf = MultilabelStratifiedKFold(n_splits=5, shuffle=True, random_state=0)\n",
    "for fold, (train_index, test_index) in enumerate(mskf.split(df, df[['img_id']+strf_cols])):\n",
    "    df.loc[test_index, 'fold'] = fold"
   ]
  },
  {
   "cell_type": "code",
   "execution_count": 108,
   "id": "human-pittsburgh",
   "metadata": {},
   "outputs": [
    {
     "data": {
      "text/plain": [
       "Series([], Name: img_id, dtype: int64)"
      ]
     },
     "execution_count": 108,
     "metadata": {},
     "output_type": "execute_result"
    }
   ],
   "source": [
    "df[df['fold']==5]['img_id'].value_counts()"
   ]
  },
  {
   "cell_type": "code",
   "execution_count": 28,
   "id": "conventional-contract",
   "metadata": {},
   "outputs": [
    {
     "data": {
      "text/plain": [
       "4"
      ]
     },
     "execution_count": 28,
     "metadata": {},
     "output_type": "execute_result"
    }
   ],
   "source": [
    "import math\n",
    "math.ceil(3.3)"
   ]
  },
  {
   "cell_type": "code",
   "execution_count": 88,
   "id": "august-workshop",
   "metadata": {},
   "outputs": [
    {
     "data": {
      "text/html": [
       "<div>\n",
       "<style scoped>\n",
       "    .dataframe tbody tr th:only-of-type {\n",
       "        vertical-align: middle;\n",
       "    }\n",
       "\n",
       "    .dataframe tbody tr th {\n",
       "        vertical-align: top;\n",
       "    }\n",
       "\n",
       "    .dataframe thead th {\n",
       "        text-align: right;\n",
       "    }\n",
       "</style>\n",
       "<table border=\"1\" class=\"dataframe\">\n",
       "  <thead>\n",
       "    <tr style=\"text-align: right;\">\n",
       "      <th></th>\n",
       "      <th>img_id</th>\n",
       "      <th>glomerulus_pix</th>\n",
       "      <th>medulla</th>\n",
       "      <th>cortex</th>\n",
       "      <th>outer_stripe</th>\n",
       "      <th>Inner medulla</th>\n",
       "      <th>Outer Medulla</th>\n",
       "      <th>file</th>\n",
       "      <th>fold</th>\n",
       "    </tr>\n",
       "  </thead>\n",
       "  <tbody>\n",
       "    <tr>\n",
       "      <th>0</th>\n",
       "      <td>2f6ecfcdf</td>\n",
       "      <td>0</td>\n",
       "      <td>6</td>\n",
       "      <td>0</td>\n",
       "      <td>0</td>\n",
       "      <td>0</td>\n",
       "      <td>0</td>\n",
       "      <td>/home/trytolose/rinat/kaggle/hubmap/input/trai...</td>\n",
       "      <td>0</td>\n",
       "    </tr>\n",
       "    <tr>\n",
       "      <th>1</th>\n",
       "      <td>2f6ecfcdf</td>\n",
       "      <td>0</td>\n",
       "      <td>2</td>\n",
       "      <td>0</td>\n",
       "      <td>0</td>\n",
       "      <td>0</td>\n",
       "      <td>0</td>\n",
       "      <td>/home/trytolose/rinat/kaggle/hubmap/input/trai...</td>\n",
       "      <td>4</td>\n",
       "    </tr>\n",
       "    <tr>\n",
       "      <th>2</th>\n",
       "      <td>2f6ecfcdf</td>\n",
       "      <td>0</td>\n",
       "      <td>8</td>\n",
       "      <td>0</td>\n",
       "      <td>0</td>\n",
       "      <td>0</td>\n",
       "      <td>0</td>\n",
       "      <td>/home/trytolose/rinat/kaggle/hubmap/input/trai...</td>\n",
       "      <td>4</td>\n",
       "    </tr>\n",
       "    <tr>\n",
       "      <th>3</th>\n",
       "      <td>2f6ecfcdf</td>\n",
       "      <td>0</td>\n",
       "      <td>9</td>\n",
       "      <td>0</td>\n",
       "      <td>0</td>\n",
       "      <td>0</td>\n",
       "      <td>0</td>\n",
       "      <td>/home/trytolose/rinat/kaggle/hubmap/input/trai...</td>\n",
       "      <td>0</td>\n",
       "    </tr>\n",
       "    <tr>\n",
       "      <th>4</th>\n",
       "      <td>2f6ecfcdf</td>\n",
       "      <td>0</td>\n",
       "      <td>8</td>\n",
       "      <td>0</td>\n",
       "      <td>0</td>\n",
       "      <td>0</td>\n",
       "      <td>0</td>\n",
       "      <td>/home/trytolose/rinat/kaggle/hubmap/input/trai...</td>\n",
       "      <td>4</td>\n",
       "    </tr>\n",
       "    <tr>\n",
       "      <th>...</th>\n",
       "      <td>...</td>\n",
       "      <td>...</td>\n",
       "      <td>...</td>\n",
       "      <td>...</td>\n",
       "      <td>...</td>\n",
       "      <td>...</td>\n",
       "      <td>...</td>\n",
       "      <td>...</td>\n",
       "      <td>...</td>\n",
       "    </tr>\n",
       "    <tr>\n",
       "      <th>9601</th>\n",
       "      <td>1e2425f28</td>\n",
       "      <td>0</td>\n",
       "      <td>0</td>\n",
       "      <td>4</td>\n",
       "      <td>0</td>\n",
       "      <td>0</td>\n",
       "      <td>0</td>\n",
       "      <td>/home/trytolose/rinat/kaggle/hubmap/input/trai...</td>\n",
       "      <td>1</td>\n",
       "    </tr>\n",
       "    <tr>\n",
       "      <th>9602</th>\n",
       "      <td>1e2425f28</td>\n",
       "      <td>0</td>\n",
       "      <td>0</td>\n",
       "      <td>5</td>\n",
       "      <td>0</td>\n",
       "      <td>0</td>\n",
       "      <td>0</td>\n",
       "      <td>/home/trytolose/rinat/kaggle/hubmap/input/trai...</td>\n",
       "      <td>2</td>\n",
       "    </tr>\n",
       "    <tr>\n",
       "      <th>9603</th>\n",
       "      <td>1e2425f28</td>\n",
       "      <td>0</td>\n",
       "      <td>0</td>\n",
       "      <td>7</td>\n",
       "      <td>0</td>\n",
       "      <td>0</td>\n",
       "      <td>0</td>\n",
       "      <td>/home/trytolose/rinat/kaggle/hubmap/input/trai...</td>\n",
       "      <td>4</td>\n",
       "    </tr>\n",
       "    <tr>\n",
       "      <th>9604</th>\n",
       "      <td>1e2425f28</td>\n",
       "      <td>0</td>\n",
       "      <td>0</td>\n",
       "      <td>7</td>\n",
       "      <td>0</td>\n",
       "      <td>0</td>\n",
       "      <td>0</td>\n",
       "      <td>/home/trytolose/rinat/kaggle/hubmap/input/trai...</td>\n",
       "      <td>0</td>\n",
       "    </tr>\n",
       "    <tr>\n",
       "      <th>9605</th>\n",
       "      <td>1e2425f28</td>\n",
       "      <td>0</td>\n",
       "      <td>0</td>\n",
       "      <td>0</td>\n",
       "      <td>0</td>\n",
       "      <td>0</td>\n",
       "      <td>0</td>\n",
       "      <td>/home/trytolose/rinat/kaggle/hubmap/input/trai...</td>\n",
       "      <td>3</td>\n",
       "    </tr>\n",
       "  </tbody>\n",
       "</table>\n",
       "<p>9606 rows × 9 columns</p>\n",
       "</div>"
      ],
      "text/plain": [
       "         img_id glomerulus_pix medulla cortex outer_stripe Inner medulla  \\\n",
       "0     2f6ecfcdf              0       6      0            0             0   \n",
       "1     2f6ecfcdf              0       2      0            0             0   \n",
       "2     2f6ecfcdf              0       8      0            0             0   \n",
       "3     2f6ecfcdf              0       9      0            0             0   \n",
       "4     2f6ecfcdf              0       8      0            0             0   \n",
       "...         ...            ...     ...    ...          ...           ...   \n",
       "9601  1e2425f28              0       0      4            0             0   \n",
       "9602  1e2425f28              0       0      5            0             0   \n",
       "9603  1e2425f28              0       0      7            0             0   \n",
       "9604  1e2425f28              0       0      7            0             0   \n",
       "9605  1e2425f28              0       0      0            0             0   \n",
       "\n",
       "     Outer Medulla                                               file  fold  \n",
       "0                0  /home/trytolose/rinat/kaggle/hubmap/input/trai...     0  \n",
       "1                0  /home/trytolose/rinat/kaggle/hubmap/input/trai...     4  \n",
       "2                0  /home/trytolose/rinat/kaggle/hubmap/input/trai...     4  \n",
       "3                0  /home/trytolose/rinat/kaggle/hubmap/input/trai...     0  \n",
       "4                0  /home/trytolose/rinat/kaggle/hubmap/input/trai...     4  \n",
       "...            ...                                                ...   ...  \n",
       "9601             0  /home/trytolose/rinat/kaggle/hubmap/input/trai...     1  \n",
       "9602             0  /home/trytolose/rinat/kaggle/hubmap/input/trai...     2  \n",
       "9603             0  /home/trytolose/rinat/kaggle/hubmap/input/trai...     4  \n",
       "9604             0  /home/trytolose/rinat/kaggle/hubmap/input/trai...     0  \n",
       "9605             0  /home/trytolose/rinat/kaggle/hubmap/input/trai...     3  \n",
       "\n",
       "[9606 rows x 9 columns]"
      ]
     },
     "execution_count": 88,
     "metadata": {},
     "output_type": "execute_result"
    }
   ],
   "source": [
    "df"
   ]
  },
  {
   "cell_type": "code",
   "execution_count": null,
   "id": "treated-vintage",
   "metadata": {},
   "outputs": [],
   "source": []
  }
 ],
 "metadata": {
  "kernelspec": {
   "display_name": "Python 3",
   "language": "python",
   "name": "python3"
  },
  "language_info": {
   "codemirror_mode": {
    "name": "ipython",
    "version": 3
   },
   "file_extension": ".py",
   "mimetype": "text/x-python",
   "name": "python",
   "nbconvert_exporter": "python",
   "pygments_lexer": "ipython3",
   "version": "3.8.5"
  }
 },
 "nbformat": 4,
 "nbformat_minor": 5
}
